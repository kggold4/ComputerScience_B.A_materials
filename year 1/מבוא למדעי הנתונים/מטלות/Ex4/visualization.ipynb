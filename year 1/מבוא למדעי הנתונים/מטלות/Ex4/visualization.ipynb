{
 "cells": [
  {
   "cell_type": "code",
   "execution_count": null,
   "metadata": {},
   "outputs": [],
   "source": [
    "# import numpy, matplotlib, seaborn and stats from scipy\n",
    "import numpy as np\n",
    "import matplotlib.pyplot as plt\n",
    "from scipy import stats\n",
    "%matplotlib inline\n",
    "\n",
    "# gaussian function\n",
    "def gaussian(x, mu, sig):\n",
    "    return np.exp(-np.power(x - mu, 2.) / (2 * np.power(sig, 2.)))"
   ]
  },
  {
   "cell_type": "markdown",
   "metadata": {},
   "source": [
    "# Question 1:"
   ]
  },
  {
   "cell_type": "code",
   "execution_count": null,
   "metadata": {},
   "outputs": [],
   "source": [
    "# first we create a numpy array with 10000 random values mean of 100 and std of 15\n",
    "# we use this array called x as 'dataset'\n",
    "# the 10000 numpers represents 10000 peoples IQ marks\n",
    "mean, std, samples = 100, 15, 10000\n",
    "    \n",
    "x = np.linspace(0, 200, 10000)\n",
    "\n",
    "# for mu, sig in [(-20, 20)]:\n",
    "#    plt.plot(x, gaussian(x, mu, sig))\n",
    "\n",
    "# using probability density function\n",
    "iq = stats.norm(mean, std)\n",
    "\n",
    "# choose the color i want to use in the PDF in colors list\n",
    "colors = ['peru', 'gold', 'r', 'b', ]\n",
    "\n",
    "# make the list be reflexive\n",
    "colors = colors + list(reversed(colors))\n",
    "\n",
    "# for each i in range of -4 and 4, and for each color in colors list\n",
    "# I use the range between -4 and 4 because the I cut the PDF to 8 parts\n",
    "for i, color in zip(range(-4, 4), colors):\n",
    "    \n",
    "    # in each loop interaction calculate the low value by std and mean relative to i\n",
    "    low = mean + i * std\n",
    "    \n",
    "    # in each loop interaction calculate the high value by std and mean relative to i\n",
    "    high = mean + (i + 1) * std\n",
    "    \n",
    "    # px list will contains all the x's that are between low and high\n",
    "    px = x[np.logical_and(x >= low, x <= high)]\n",
    "    \n",
    "    # for make the PDF look more continuous and colorful fill with colors by color list the PDF\n",
    "    # alpha is the transparency ratio of the colors and linewidth is the width of the line of every shape\n",
    "    plt.fill_between(px, gaussian(px, mean, std), color=color, alpha=0.5, linewidth=0,)\n",
    "\n",
    "# make the plot be more tight\n",
    "plt.tight_layout()\n",
    "\n",
    "# x axis label\n",
    "plt.xlabel(\"IQ Score\")\n",
    "\n",
    "# y axis label\n",
    "plt.ylabel(\"% Population\")\n",
    "\n",
    "# make the numbers in x axis be bigger\n",
    "plt.xticks(fontsize=14)\n",
    "\n",
    "plt.show()"
   ]
  },
  {
   "cell_type": "markdown",
   "metadata": {},
   "source": [
    "# 68–95–99 Rule:\n",
    "The 68–95–99 rule is a shorthand used to remember the percentage of values that lie within a band around the mean in a <b>normal distribution</b> with a width of two, four and six standard deviations,\n",
    "<br>\n",
    "* these facts can be expressed as follows, where Χ is an observation from a normally distributed random variable, μ is the mean of the distribution, and σ is its standard deviation:\n",
    "\n",
    "<img src=\"images/68-95-99.PNG\" width=\"300px\" height=\"auto\">\n",
    "<br>\n",
    "\n",
    "* and as you can see if we look at the normal distribution histogram that explains the rule well:\n",
    "\n",
    "<img src=\"images/rule_histogram.png\" width=\"300px\" height=\"auto\">"
   ]
  },
  {
   "cell_type": "markdown",
   "metadata": {},
   "source": [
    "# Question 2:"
   ]
  },
  {
   "cell_type": "code",
   "execution_count": null,
   "metadata": {},
   "outputs": [],
   "source": [
    "# first we create the data, mens and womens both have the same mean in IQ marks (100),\n",
    "# but let us assume that mens have std of 22 ans womens 20,\n",
    "# we create 10000 samples each dataset\n",
    "mean, menstd, womenstd, samples = 100, 22, 20, 10000\n",
    "\n",
    "mens = np.linspace(0, 200, 10000)\n",
    "womens = np.linspace(0, 200, 10000)\n",
    "\n",
    "# we create a figure from matplotlib to see in a graph the result of both data\n",
    "fig = plt.figure()\n",
    "axes = fig.add_axes([0,0,1,1])\n",
    "\n",
    "# add to the graph mens and womens data\n",
    "# mens are in blue color and womens in orange in default\n",
    "# both relative transparency scale to 0.9 and the line length to 0.8\n",
    "axes.plot(mens, gaussian(mens, mean, menstd), label='mens', alpha=0.9, linewidth=0.8)\n",
    "axes.plot(womens, gaussian(womens, mean, womenstd), label='womens', alpha=0.9, linewidth=0.8)\n",
    "\n",
    "# create little screen in the graph that show mens and womens color of lines\n",
    "axes.legend()\n",
    "axes.grid(True)\n",
    "\n",
    "# as we can see the distribution of men in the graph is relatively higher and lower than that of women,\n",
    "# this is because of a large standard deviation"
   ]
  },
  {
   "cell_type": "markdown",
   "metadata": {},
   "source": [
    "# Question 3:"
   ]
  },
  {
   "cell_type": "code",
   "execution_count": null,
   "metadata": {},
   "outputs": [],
   "source": [
    "# first we create the data for alients and citizens\n",
    "asamples, amean, astd = 500000, 115, 15\n",
    "csamples, cmean, cstd = 3000000, 100, 25\n",
    "\n",
    "aliens = np.linspace(0, 200, asamples)\n",
    "citizens = np.linspace(0, 200, csamples)\n",
    "\n",
    "# we create a figure from matplotlib to see in a graph the result of both data\n",
    "fig = plt.figure(figsize=(7,7))\n",
    "axes = fig.add_axes([0,0,1,1])\n",
    "\n",
    "# add to the graph mens and womens data\n",
    "# mens are in blue color and womens in orange in default\n",
    "# both relative transparency scale to 0.9 and the line length to 0.8\n",
    "axes.plot(citizens, gaussian(citizens, cmean, cstd), label='citizens', alpha=0.9, linewidth=0.8)\n",
    "axes.plot(aliens, gaussian(aliens, amean, astd), label='aliens', alpha=0.9, linewidth=0.8)\n",
    "\n",
    "# create little screen in the graph that show mens and womens color of lines\n",
    "axes.legend()\n",
    "axes.grid(True)"
   ]
  },
  {
   "cell_type": "markdown",
   "metadata": {},
   "source": [
    "# Question 4:"
   ]
  },
  {
   "cell_type": "code",
   "execution_count": null,
   "metadata": {},
   "outputs": [],
   "source": [
    "# first we create a numpy array with 10000 random values in normal distribution with mean of 100 and std of 15\n",
    "# we use this array called x as 'dataset'\n",
    "# the 10000 numpers represents 10000 peoples IQ marks\n",
    "mean, std, samples = 100, 15, 10000\n",
    "x = np.random.normal(mean, std, samples)\n",
    "\n",
    "# sorting the dataset for dsiplay it clean and continuous\n",
    "x = np.sort(x)\n",
    "\n",
    "plt.hist(x)\n",
    "\n",
    "# make the plot be more tight\n",
    "plt.tight_layout()\n",
    "\n",
    "# x axis label\n",
    "plt.xlabel(\"IQ Score\")\n",
    "\n",
    "# y axis label\n",
    "plt.ylabel(\"% Population\")\n",
    "\n",
    "# make the numbers in x axis be bigger\n",
    "plt.xticks(fontsize=14)\n",
    "\n",
    "# show the plt - this funciton does not have to be written in a jupyter notebook, but I write it anyway\n",
    "plt.show()"
   ]
  },
  {
   "cell_type": "markdown",
   "metadata": {},
   "source": [
    "# 68–95–99 Rule:\n",
    "The 68–95–99 rule is a shorthand used to remember the percentage of values that lie within a band around the mean in a <b>normal distribution</b> with a width of two, four and six standard deviations,\n",
    "<br>\n",
    "* these facts can be expressed as follows, where Χ is an observation from a normally distributed random variable, μ is the mean of the distribution, and σ is its standard deviation:\n",
    "\n",
    "<img src=\"images/68-95-99.PNG\" width=\"300px\" height=\"auto\">\n",
    "<br>\n",
    "\n",
    "* and as you can see if we look at the normal distribution histogram that explains the rule well:\n",
    "\n",
    "<img src=\"images/rule_histogram.png\" width=\"300px\" height=\"auto\">"
   ]
  },
  {
   "cell_type": "code",
   "execution_count": null,
   "metadata": {},
   "outputs": [],
   "source": [
    "# first we create the data, mens and womens both have the same mean in IQ marks (100),\n",
    "# but let us assume that mens have std of 22 ans womens 20,\n",
    "# we create 10000 samples in normal distribution of both data mens and womens\n",
    "mean, menstd, womenstd, samples = 100, 22, 20, 10000\n",
    "mens = np.random.normal(mean, menstd, samples)\n",
    "womens = np.random.normal(mean, womenstd, samples)\n",
    "\n",
    "# we create a figure from matplotlib to see in a graph the result of both data\n",
    "fig = plt.figure()\n",
    "axes = fig.add_axes([0,0,1,1])\n",
    "\n",
    "# add to the graph mens and womens data\n",
    "# mens are in blue color and womens in orange in default\n",
    "# both relative transparency scale to 0.9 and the line length to 0.8\n",
    "axes.hist(mens, label='mens', alpha=0.9, linewidth=0.8)\n",
    "axes.hist(womens, label='womens', alpha=0.9, linewidth=0.8)\n",
    "\n",
    "# create little screen in the graph that show mens and womens color of lines\n",
    "axes.legend()\n",
    "axes.grid(True)\n",
    "\n",
    "# as we can see the distribution of men in the graph is relatively higher and lower than that of women,\n",
    "# this is because of a large standard deviation"
   ]
  },
  {
   "cell_type": "code",
   "execution_count": null,
   "metadata": {},
   "outputs": [],
   "source": [
    "# first we create the data for alients and citizens (I deleted three zeros from the question number for save calculation time)\n",
    "asamples, amean, astd = 50, 115, 15\n",
    "csamples, cmean, cstd = 300, 100, 25\n",
    "aliens = np.random.normal(amean, astd, asamples)\n",
    "citizens = np.random.normal(cmean, cstd, csamples)\n",
    "\n",
    "# we create a figure from matplotlib to see in a graph the result of both data\n",
    "fig = plt.figure(figsize=(7,7))\n",
    "axes = fig.add_axes([0,0,1,1])\n",
    "\n",
    "# add to the graph mens and womens data\n",
    "# mens are in blue color and womens in orange in default\n",
    "# both relative transparency scale to 0.9 and the line length to 0.8\n",
    "axes.hist(citizens, label='citizens', alpha=0.9, linewidth=0.8)\n",
    "axes.hist(aliens, label='aliens', alpha=0.9, linewidth=0.8)\n",
    "\n",
    "# create little screen in the graph that show mens and womens color of lines\n",
    "axes.legend()\n",
    "axes.grid(True)\n",
    "# as we can see the distribution of men in the graph is relatively higher and lower than that of women,\n",
    "# this is because of a large standard deviation"
   ]
  },
  {
   "cell_type": "markdown",
   "metadata": {},
   "source": [
    "# Question 5:"
   ]
  },
  {
   "cell_type": "code",
   "execution_count": null,
   "metadata": {},
   "outputs": [],
   "source": [
    "import matplotlib.pyplot as plt\n",
    "continents = ['AF', 'NA', 'EU', 'AU', 'SA', 'AS']\n",
    "heights = [167, 183, 178, 190, 175, 160]\n",
    "plt.xlabel(\"Continents\")\n",
    "plt.ylabel(\"Heights\")\n",
    "plt.bar(continents, heights)\n",
    "plt.tight_layout()"
   ]
  },
  {
   "cell_type": "code",
   "execution_count": null,
   "metadata": {},
   "outputs": [],
   "source": []
  }
 ],
 "metadata": {
  "kernelspec": {
   "display_name": "Python 3",
   "language": "python",
   "name": "python3"
  },
  "language_info": {
   "codemirror_mode": {
    "name": "ipython",
    "version": 3
   },
   "file_extension": ".py",
   "mimetype": "text/x-python",
   "name": "python",
   "nbconvert_exporter": "python",
   "pygments_lexer": "ipython3",
   "version": "3.8.5"
  }
 },
 "nbformat": 4,
 "nbformat_minor": 4
}

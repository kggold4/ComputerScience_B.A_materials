{
 "cells": [
  {
   "cell_type": "code",
   "execution_count": null,
   "metadata": {},
   "outputs": [],
   "source": [
    "# 1\n",
    "import pandas as pd"
   ]
  },
  {
   "cell_type": "code",
   "execution_count": null,
   "metadata": {},
   "outputs": [],
   "source": [
    "# 2\n",
    "df = pd.read_csv('ks-projects-201801.csv')"
   ]
  },
  {
   "cell_type": "code",
   "execution_count": null,
   "metadata": {},
   "outputs": [],
   "source": [
    "# 3\n",
    "df.head(10)"
   ]
  },
  {
   "cell_type": "code",
   "execution_count": null,
   "metadata": {},
   "outputs": [],
   "source": [
    "# 4\n",
    "df.tail(5)"
   ]
  },
  {
   "cell_type": "code",
   "execution_count": null,
   "metadata": {},
   "outputs": [],
   "source": [
    "# 5\n",
    "first_five_of_cat = df['category'].head(5).values\n",
    "print(first_five_of_cat)"
   ]
  },
  {
   "cell_type": "code",
   "execution_count": null,
   "metadata": {},
   "outputs": [],
   "source": [
    "# 6\n",
    "# ID - for the id number of the kickstarter project.\n",
    "# name - the name of the kickstarter project.\n",
    "# category - for classified every item to a sub-category.\n",
    "# main_category - is for classified every item to a main-category.\n",
    "# currency - the type of coin in the kickstarter project.\n",
    "# deadline - the deadline date for the project for been executed.\n",
    "# goal - the sum  of investments money for the project for executed.\n",
    "# launched - the date the project started in the kickstarter website.\n",
    "# pledged - the money that have been yet (currently) investment in the project.\n",
    "# state - the status of the project at the current time.\n",
    "# backers - the number of supporters of the project at the current time.\n",
    "# country - the country of the project (where is the company is settled)\n",
    "# usd pledged - the money that have been yet (currently) investment in the project in USD money.\n",
    "# usd_pledged_real - the money that have been yet (currently) investment in the project in real value of USD money.\n",
    "# usd_goal_real - the sum  of investments money for the project for executed in real value of USD money."
   ]
  },
  {
   "cell_type": "code",
   "execution_count": null,
   "metadata": {},
   "outputs": [],
   "source": [
    "# 7\n",
    "# ID - numerical data (discerte data)\n",
    "# name - categorial data\n",
    "# category - ordinal data\n",
    "# main_category - ordinal data\n",
    "# currency - ordinal data\n",
    "# deadline - ordinal data\n",
    "# goal - numerical data (continuous data)\n",
    "# launched - ordinal data\n",
    "# pledged - numerical data (continuous data)\n",
    "# state - ordinal data \n",
    "# backers - numerical data (discerte data)\n",
    "# country - ordinal data \n",
    "# usd pledged - numerical data (continuous data)\n",
    "# usd_pledged_real - numerical data (continuous data)\n",
    "# usd_goal_real - numerical data (continuous data)"
   ]
  },
  {
   "cell_type": "code",
   "execution_count": null,
   "metadata": {},
   "outputs": [],
   "source": [
    "# 8\n",
    "df.shape"
   ]
  },
  {
   "cell_type": "code",
   "execution_count": null,
   "metadata": {},
   "outputs": [],
   "source": [
    "# 9\n",
    "df.isna().sum().sum()"
   ]
  },
  {
   "cell_type": "code",
   "execution_count": null,
   "metadata": {},
   "outputs": [],
   "source": [
    "# 10\n",
    "count = 0\n",
    "for col in df:\n",
    "    print('number of NaN values in column', col, ':', df[col].isnull().sum())\n"
   ]
  },
  {
   "cell_type": "code",
   "execution_count": null,
   "metadata": {},
   "outputs": [],
   "source": [
    "# 11\n",
    "ids_series = pd.Series(df['ID']).head()\n",
    "ids_series"
   ]
  },
  {
   "cell_type": "code",
   "execution_count": null,
   "metadata": {},
   "outputs": [],
   "source": [
    "# 12\n",
    "df.drop(['ID'], axis = 1, inplace = True)\n",
    "df"
   ]
  },
  {
   "cell_type": "code",
   "execution_count": null,
   "metadata": {},
   "outputs": [],
   "source": [
    "# 13\n",
    "df.info()"
   ]
  },
  {
   "cell_type": "code",
   "execution_count": null,
   "metadata": {},
   "outputs": [],
   "source": [
    "# 14\n",
    "df.describe()"
   ]
  },
  {
   "cell_type": "code",
   "execution_count": null,
   "metadata": {},
   "outputs": [],
   "source": [
    "# 15\n",
    "\n",
    "successful = df['state'].eq('successful').sum()\n",
    "failed = df['state'].eq('failed').sum()\n",
    "\n",
    "# canceled = df['state'].eq('canceled').sum()\n",
    "# live = df['state'].eq('live').sum()\n",
    "# undefined = df['state'].eq('undefined').sum()\n",
    "# suspended = df['state'].eq('suspended').sum()\n",
    "\n",
    "print(\"\\'successful\\' projects:\", successful,\", \\'failed\\' projects:\", failed)\n",
    "\n",
    "# number of rows in df is 378662 and we have only 331675 results of successful and failed values\n",
    "# that because we have some move values aka canceled, live, undefined and suspended."
   ]
  },
  {
   "cell_type": "code",
   "execution_count": null,
   "metadata": {},
   "outputs": [],
   "source": [
    "# 16\n",
    "print(\"the biggest goal (expensivest project) amount is:\", df['usd_goal_real'].max(), \"in real USD value\")\n",
    "print(\"the sum of all pledged in all kickstarter projects is:\", df['usd pledged'].sum(), \"USD\")\n",
    "print(\"the number of all backers in all the kickstarter projects is:\", df['backers'].sum(), \"people\")\n",
    "print(\"ths first launched project at kickstarter website launched in:\", df['launched'].min(), \"time\")\n",
    "print(\"the most type of coins (money) paid in the kickstarter website is in:\", df['currency'].max(), \"value\")\n",
    "print(\"the most main category of kickstarter projects is:\", \"\\'\", df['main_category'].max(), \"\\'\", \"category\")\n",
    "print(\"the most sub category of kickstarter projects is:\", \"\\'\", df['category'].max(), \"\\'\", \"category\")\n",
    "print(\"for the most, projects in kickstarter is in status of:\", \"\\'\", df['state'].max(), \"\\'\")\n",
    "print(\"the least of kickstarter project came from:\", \"\\'\", df['country'].min(), \"\\'\", \"country\")\n",
    "print(\"the number of porjects that related to music category is\", df['category'].eq('Music').sum())\n",
    "print(\"the number of porjects that related to Technology category is\", df['category'].eq('Technology').sum())"
   ]
  },
  {
   "cell_type": "code",
   "execution_count": null,
   "metadata": {},
   "outputs": [],
   "source": []
  }
 ],
 "metadata": {
  "kernelspec": {
   "display_name": "Python 3",
   "language": "python",
   "name": "python3"
  },
  "language_info": {
   "codemirror_mode": {
    "name": "ipython",
    "version": 3
   },
   "file_extension": ".py",
   "mimetype": "text/x-python",
   "name": "python",
   "nbconvert_exporter": "python",
   "pygments_lexer": "ipython3",
   "version": "3.8.5"
  }
 },
 "nbformat": 4,
 "nbformat_minor": 4
}

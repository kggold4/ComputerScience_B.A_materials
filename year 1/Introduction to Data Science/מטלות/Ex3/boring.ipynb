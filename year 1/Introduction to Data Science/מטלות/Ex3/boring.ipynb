{
 "cells": [
  {
   "cell_type": "code",
   "execution_count": null,
   "metadata": {},
   "outputs": [],
   "source": [
    "# 1\n",
    "# import numpy\n",
    "import numpy as np"
   ]
  },
  {
   "cell_type": "code",
   "execution_count": null,
   "metadata": {},
   "outputs": [],
   "source": [
    "# 2\n",
    "# crate numpy arrray like [1,2,...,30] and cast to python regular list\n",
    "list = np.arange(1,31).tolist()\n",
    "type(list)"
   ]
  },
  {
   "cell_type": "code",
   "execution_count": null,
   "metadata": {},
   "outputs": [],
   "source": [
    "# 3\n",
    "# cast the list back to numpy array\n",
    "list = np.array(list)\n",
    "type(list)"
   ]
  },
  {
   "cell_type": "code",
   "execution_count": null,
   "metadata": {},
   "outputs": [],
   "source": [
    "# 4\n",
    "list.shape = (6,5)\n",
    "list"
   ]
  },
  {
   "cell_type": "code",
   "execution_count": null,
   "metadata": {},
   "outputs": [],
   "source": [
    "# 5\n",
    "i = 0\n",
    "sum = 0\n",
    "for row in list:\n",
    "    j = 0\n",
    "    for val in row:\n",
    "        if i == j:\n",
    "            sum = sum + val\n",
    "        j = j + 1\n",
    "    i = i + 1\n",
    "sum"
   ]
  },
  {
   "cell_type": "code",
   "execution_count": null,
   "metadata": {},
   "outputs": [],
   "source": [
    "# 6\n",
    "np.sum(list[1])"
   ]
  },
  {
   "cell_type": "code",
   "execution_count": null,
   "metadata": {},
   "outputs": [],
   "source": [
    "# 7\n",
    "list_ones = np.ones((6,5), dtype=int)\n",
    "list_ones"
   ]
  },
  {
   "cell_type": "code",
   "execution_count": null,
   "metadata": {},
   "outputs": [],
   "source": [
    "# 8\n",
    "list + list_ones"
   ]
  },
  {
   "cell_type": "code",
   "execution_count": null,
   "metadata": {},
   "outputs": [],
   "source": [
    "# 9\n",
    "mat3 = np.random.randint(100, size = (30,30))\n",
    "mat3"
   ]
  },
  {
   "cell_type": "code",
   "execution_count": null,
   "metadata": {},
   "outputs": [],
   "source": [
    "# 10\n",
    "minimum = np.min(mat3)\n",
    "print(\"min: \", minimum)\n",
    "\n",
    "indexes = []\n",
    "i = 0\n",
    "sum = 0\n",
    "for row in mat3:\n",
    "    j = 0\n",
    "    for val in row:\n",
    "        if val == minimum:\n",
    "            print(\"index of the minimum value is line \", i, \"is \", j)\n",
    "        j = j + 1\n",
    "    i = i + 1\n",
    "indexes"
   ]
  },
  {
   "cell_type": "code",
   "execution_count": null,
   "metadata": {},
   "outputs": [],
   "source": [
    "# 11\n",
    "mat3[10:20,10:20]"
   ]
  },
  {
   "cell_type": "code",
   "execution_count": null,
   "metadata": {},
   "outputs": [],
   "source": [
    "# 12\n",
    "print(\"mean: \", np.mean(mat3))\n",
    "print(\"median: \", np.median(mat3))\n",
    "print(\"std: \", np.std(mat3))"
   ]
  },
  {
   "cell_type": "code",
   "execution_count": null,
   "metadata": {},
   "outputs": [],
   "source": [
    "# 13\n",
    "np.linspace(0,20,12,endpoint=False)"
   ]
  }
 ],
 "metadata": {
  "kernelspec": {
   "display_name": "Python 3",
   "language": "python",
   "name": "python3"
  },
  "language_info": {
   "codemirror_mode": {
    "name": "ipython",
    "version": 3
   },
   "file_extension": ".py",
   "mimetype": "text/x-python",
   "name": "python",
   "nbconvert_exporter": "python",
   "pygments_lexer": "ipython3",
   "version": "3.8.5"
  }
 },
 "nbformat": 4,
 "nbformat_minor": 4
}

{
 "cells": [
  {
   "cell_type": "code",
   "execution_count": null,
   "metadata": {},
   "outputs": [],
   "source": [
    "# question 1:\n",
    "    \n",
    "my_movies = [['How I Met Your Mother', 'Friends', 'Silicon Valley'],\n",
    "   \t            ['Family Guy', 'South Park', 'Rick and Morty'],\n",
    "  \t            ['Breaking Bad', 'Game of Thrones', 'The Wire']]\n",
    "\n",
    "# prints every my_movies tv show string and his length of characters\n",
    "\n",
    "print(\"\\nquestion 1:\\n\")\n",
    "for row in my_movies:\n",
    "    for i in row:\n",
    "        print(\"The title \\'\" + str(i) + \"\\' is \" + str(len(i)) + \" characters long\")"
   ]
  },
  {
   "cell_type": "code",
   "execution_count": null,
   "metadata": {},
   "outputs": [],
   "source": [
    "# question 2:\n",
    "    \n",
    "print(\"\\nquestion 2:\\n\")\n",
    "index = 1\n",
    "while index < 100:\n",
    "    if index % 3 == 0 and index % 5 == 0:\n",
    "        print(\"BimBamBom!\")\n",
    "    elif index % 3 == 0:\n",
    "        print(\"Boom!\")\n",
    "    elif index % 5 == 0:\n",
    "        print(\"Bim!\")\n",
    "    else:\n",
    "        print(index)\n",
    "    index += 1"
   ]
  },
  {
   "cell_type": "code",
   "execution_count": null,
   "metadata": {},
   "outputs": [],
   "source": [
    "# question 3\n",
    "\n",
    "print(\"\\nquestion 3:\\n\")\n",
    "\n",
    "test = [{'Arizona': 'Phoenix', 'California': 'Sacramento', 'Hawaii': 'Honolulu'},\n",
    "1000,\n",
    "2000,\n",
    "3000,\n",
    "['hat', 't-shirt', 'jeans', {'socks1': 'red', 'socks2': 'blue'}]]\n",
    "\n",
    "print(test[2])\n",
    "print(test[0])\n",
    "print(test[4])\n",
    "print(test[0].get(\"Arizona\"))\n",
    "print(test[4][2])\n",
    "print(test[4][3].get(\"socks2\"))"
   ]
  },
  {
   "cell_type": "code",
   "execution_count": null,
   "metadata": {},
   "outputs": [],
   "source": []
  }
 ],
 "metadata": {
  "kernelspec": {
   "display_name": "Python 3",
   "language": "python",
   "name": "python3"
  },
  "language_info": {
   "codemirror_mode": {
    "name": "ipython",
    "version": 3
   },
   "file_extension": ".py",
   "mimetype": "text/x-python",
   "name": "python",
   "nbconvert_exporter": "python",
   "pygments_lexer": "ipython3",
   "version": "3.8.5"
  }
 },
 "nbformat": 4,
 "nbformat_minor": 4
}

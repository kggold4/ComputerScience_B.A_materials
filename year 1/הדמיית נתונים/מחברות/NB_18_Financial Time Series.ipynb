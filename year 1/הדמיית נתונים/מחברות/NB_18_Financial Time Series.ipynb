{
 "cells": [
  {
   "cell_type": "markdown",
   "metadata": {},
   "source": [
    "# Part 4: Managing Time Series Data With Pandas"
   ]
  },
  {
   "cell_type": "markdown",
   "metadata": {},
   "source": [
    "## Time Series Advanced / Financial Data"
   ]
  },
  {
   "cell_type": "markdown",
   "metadata": {},
   "source": [
    "### Importing and Exporting Stock Price Data from Yahoo Finance"
   ]
  },
  {
   "cell_type": "code",
   "execution_count": 1,
   "metadata": {},
   "outputs": [],
   "source": [
    "import pandas as pd\n",
    "import yfinance as yf\n",
    "import matplotlib.pyplot as plt"
   ]
  },
  {
   "cell_type": "code",
   "execution_count": 4,
   "metadata": {},
   "outputs": [],
   "source": [
    "ticker = [\"AAPL\", \"BA\", \"KO\", \"IBM\", \"DIS\", \"MSFT\" ]\n",
    "ticker2 = [\"AAPL\", \"BA\", \"KO\", \"IBM\", \"DIS\", \"MSFT\",'TSLA','GOOG']"
   ]
  },
  {
   "cell_type": "code",
   "execution_count": 3,
   "metadata": {
    "scrolled": true
   },
   "outputs": [
    {
     "name": "stdout",
     "output_type": "stream",
     "text": [
      "[*********************100%***********************]  6 of 6 completed\n"
     ]
    }
   ],
   "source": [
    "stocks = yf.download(ticker, start = \"2010-01-01\", end = \"2019-02-06\")"
   ]
  },
  {
   "cell_type": "code",
   "execution_count": 5,
   "metadata": {},
   "outputs": [
    {
     "name": "stdout",
     "output_type": "stream",
     "text": [
      "[*********************100%***********************]  8 of 8 completed\n"
     ]
    }
   ],
   "source": [
    "stocks2 = yf.download(ticker2, start = \"2019-01-01\", end = \"2021-04-06\")"
   ]
  },
  {
   "cell_type": "code",
   "execution_count": 12,
   "metadata": {
    "scrolled": true
   },
   "outputs": [
    {
     "data": {
      "text/plain": [
       "MultiIndex([('Adj Close', 'AAPL'),\n",
       "            ('Adj Close',   'BA'),\n",
       "            ('Adj Close',  'DIS'),\n",
       "            ('Adj Close', 'GOOG'),\n",
       "            ('Adj Close',  'IBM'),\n",
       "            ('Adj Close',   'KO'),\n",
       "            ('Adj Close', 'MSFT'),\n",
       "            ('Adj Close', 'TSLA'),\n",
       "            (    'Close', 'AAPL'),\n",
       "            (    'Close',   'BA'),\n",
       "            (    'Close',  'DIS'),\n",
       "            (    'Close', 'GOOG'),\n",
       "            (    'Close',  'IBM'),\n",
       "            (    'Close',   'KO'),\n",
       "            (    'Close', 'MSFT'),\n",
       "            (    'Close', 'TSLA'),\n",
       "            (     'High', 'AAPL'),\n",
       "            (     'High',   'BA'),\n",
       "            (     'High',  'DIS'),\n",
       "            (     'High', 'GOOG'),\n",
       "            (     'High',  'IBM'),\n",
       "            (     'High',   'KO'),\n",
       "            (     'High', 'MSFT'),\n",
       "            (     'High', 'TSLA'),\n",
       "            (      'Low', 'AAPL'),\n",
       "            (      'Low',   'BA'),\n",
       "            (      'Low',  'DIS'),\n",
       "            (      'Low', 'GOOG'),\n",
       "            (      'Low',  'IBM'),\n",
       "            (      'Low',   'KO'),\n",
       "            (      'Low', 'MSFT'),\n",
       "            (      'Low', 'TSLA'),\n",
       "            (     'Open', 'AAPL'),\n",
       "            (     'Open',   'BA'),\n",
       "            (     'Open',  'DIS'),\n",
       "            (     'Open', 'GOOG'),\n",
       "            (     'Open',  'IBM'),\n",
       "            (     'Open',   'KO'),\n",
       "            (     'Open', 'MSFT'),\n",
       "            (     'Open', 'TSLA'),\n",
       "            (   'Volume', 'AAPL'),\n",
       "            (   'Volume',   'BA'),\n",
       "            (   'Volume',  'DIS'),\n",
       "            (   'Volume', 'GOOG'),\n",
       "            (   'Volume',  'IBM'),\n",
       "            (   'Volume',   'KO'),\n",
       "            (   'Volume', 'MSFT'),\n",
       "            (   'Volume', 'TSLA')],\n",
       "           )"
      ]
     },
     "execution_count": 12,
     "metadata": {},
     "output_type": "execute_result"
    }
   ],
   "source": [
    "stocks2.columns"
   ]
  },
  {
   "cell_type": "code",
   "execution_count": null,
   "metadata": {},
   "outputs": [],
   "source": [
    "stocks.tail()"
   ]
  },
  {
   "cell_type": "code",
   "execution_count": null,
   "metadata": {
    "scrolled": true
   },
   "outputs": [],
   "source": [
    "stocks.info()"
   ]
  },
  {
   "cell_type": "code",
   "execution_count": 13,
   "metadata": {},
   "outputs": [],
   "source": [
    "stocks.to_csv(\"stocks.csv\")"
   ]
  },
  {
   "cell_type": "code",
   "execution_count": null,
   "metadata": {},
   "outputs": [],
   "source": [
    "stocks = pd.read_csv(\"stocks.csv\", header = [0, 1], index_col = [0], parse_dates = [0])"
   ]
  },
  {
   "cell_type": "code",
   "execution_count": null,
   "metadata": {},
   "outputs": [],
   "source": [
    "stocks.head()"
   ]
  },
  {
   "cell_type": "code",
   "execution_count": null,
   "metadata": {},
   "outputs": [],
   "source": [
    "stocks.columns = stocks.columns.to_flat_index()"
   ]
  },
  {
   "cell_type": "code",
   "execution_count": null,
   "metadata": {},
   "outputs": [],
   "source": [
    "stocks.columns"
   ]
  },
  {
   "cell_type": "code",
   "execution_count": null,
   "metadata": {},
   "outputs": [],
   "source": [
    "stocks.columns = pd.MultiIndex.from_tuples(stocks.columns)"
   ]
  },
  {
   "cell_type": "code",
   "execution_count": null,
   "metadata": {},
   "outputs": [],
   "source": [
    "stocks.head()"
   ]
  },
  {
   "cell_type": "code",
   "execution_count": null,
   "metadata": {},
   "outputs": [],
   "source": [
    "stocks.swaplevel(axis = 1).sort_index(axis = 1)"
   ]
  },
  {
   "cell_type": "code",
   "execution_count": null,
   "metadata": {},
   "outputs": [],
   "source": []
  },
  {
   "cell_type": "markdown",
   "metadata": {},
   "source": [
    "### Initial Inspection and Visualization"
   ]
  },
  {
   "cell_type": "code",
   "execution_count": null,
   "metadata": {},
   "outputs": [],
   "source": [
    "import pandas as pd"
   ]
  },
  {
   "cell_type": "code",
   "execution_count": null,
   "metadata": {},
   "outputs": [],
   "source": [
    "stocks = pd.read_csv(\"stocks.csv\", header = [0,1], index_col= [0], parse_dates= [0])"
   ]
  },
  {
   "cell_type": "code",
   "execution_count": null,
   "metadata": {},
   "outputs": [],
   "source": [
    "stocks.head()"
   ]
  },
  {
   "cell_type": "code",
   "execution_count": null,
   "metadata": {},
   "outputs": [],
   "source": [
    "stocks.tail()"
   ]
  },
  {
   "cell_type": "code",
   "execution_count": null,
   "metadata": {
    "scrolled": false
   },
   "outputs": [],
   "source": [
    "stocks.info()"
   ]
  },
  {
   "cell_type": "code",
   "execution_count": 14,
   "metadata": {},
   "outputs": [
    {
     "data": {
      "text/html": [
       "<div>\n",
       "<style scoped>\n",
       "    .dataframe tbody tr th:only-of-type {\n",
       "        vertical-align: middle;\n",
       "    }\n",
       "\n",
       "    .dataframe tbody tr th {\n",
       "        vertical-align: top;\n",
       "    }\n",
       "\n",
       "    .dataframe thead tr th {\n",
       "        text-align: left;\n",
       "    }\n",
       "</style>\n",
       "<table border=\"1\" class=\"dataframe\">\n",
       "  <thead>\n",
       "    <tr>\n",
       "      <th></th>\n",
       "      <th colspan=\"6\" halign=\"left\">Adj Close</th>\n",
       "      <th colspan=\"4\" halign=\"left\">Close</th>\n",
       "      <th>...</th>\n",
       "      <th colspan=\"4\" halign=\"left\">Open</th>\n",
       "      <th colspan=\"6\" halign=\"left\">Volume</th>\n",
       "    </tr>\n",
       "    <tr>\n",
       "      <th></th>\n",
       "      <th>AAPL</th>\n",
       "      <th>BA</th>\n",
       "      <th>DIS</th>\n",
       "      <th>IBM</th>\n",
       "      <th>KO</th>\n",
       "      <th>MSFT</th>\n",
       "      <th>AAPL</th>\n",
       "      <th>BA</th>\n",
       "      <th>DIS</th>\n",
       "      <th>IBM</th>\n",
       "      <th>...</th>\n",
       "      <th>DIS</th>\n",
       "      <th>IBM</th>\n",
       "      <th>KO</th>\n",
       "      <th>MSFT</th>\n",
       "      <th>AAPL</th>\n",
       "      <th>BA</th>\n",
       "      <th>DIS</th>\n",
       "      <th>IBM</th>\n",
       "      <th>KO</th>\n",
       "      <th>MSFT</th>\n",
       "    </tr>\n",
       "  </thead>\n",
       "  <tbody>\n",
       "    <tr>\n",
       "      <th>count</th>\n",
       "      <td>2289.000000</td>\n",
       "      <td>2289.000000</td>\n",
       "      <td>2289.000000</td>\n",
       "      <td>2289.000000</td>\n",
       "      <td>2289.000000</td>\n",
       "      <td>2289.000000</td>\n",
       "      <td>2289.000000</td>\n",
       "      <td>2289.000000</td>\n",
       "      <td>2289.000000</td>\n",
       "      <td>2289.000000</td>\n",
       "      <td>...</td>\n",
       "      <td>2289.000000</td>\n",
       "      <td>2289.000000</td>\n",
       "      <td>2289.000000</td>\n",
       "      <td>2289.000000</td>\n",
       "      <td>2.289000e+03</td>\n",
       "      <td>2.289000e+03</td>\n",
       "      <td>2.289000e+03</td>\n",
       "      <td>2.289000e+03</td>\n",
       "      <td>2.289000e+03</td>\n",
       "      <td>2.289000e+03</td>\n",
       "    </tr>\n",
       "    <tr>\n",
       "      <th>mean</th>\n",
       "      <td>23.069882</td>\n",
       "      <td>130.148071</td>\n",
       "      <td>71.625703</td>\n",
       "      <td>126.885291</td>\n",
       "      <td>32.152466</td>\n",
       "      <td>43.947906</td>\n",
       "      <td>25.003036</td>\n",
       "      <td>144.064513</td>\n",
       "      <td>76.563272</td>\n",
       "      <td>164.363194</td>\n",
       "      <td>...</td>\n",
       "      <td>76.558703</td>\n",
       "      <td>164.305963</td>\n",
       "      <td>39.367005</td>\n",
       "      <td>48.649244</td>\n",
       "      <td>3.187362e+08</td>\n",
       "      <td>4.600220e+06</td>\n",
       "      <td>8.780499e+06</td>\n",
       "      <td>4.804254e+06</td>\n",
       "      <td>1.503044e+07</td>\n",
       "      <td>4.154675e+07</td>\n",
       "    </tr>\n",
       "    <tr>\n",
       "      <th>std</th>\n",
       "      <td>11.758983</td>\n",
       "      <td>88.687133</td>\n",
       "      <td>29.818073</td>\n",
       "      <td>16.959474</td>\n",
       "      <td>6.786859</td>\n",
       "      <td>25.090229</td>\n",
       "      <td>11.727062</td>\n",
       "      <td>88.321575</td>\n",
       "      <td>29.837647</td>\n",
       "      <td>24.157742</td>\n",
       "      <td>...</td>\n",
       "      <td>29.868884</td>\n",
       "      <td>24.143379</td>\n",
       "      <td>5.568519</td>\n",
       "      <td>24.463537</td>\n",
       "      <td>2.380407e+08</td>\n",
       "      <td>2.440858e+06</td>\n",
       "      <td>4.912058e+06</td>\n",
       "      <td>2.526676e+06</td>\n",
       "      <td>6.573916e+06</td>\n",
       "      <td>2.338828e+07</td>\n",
       "    </tr>\n",
       "    <tr>\n",
       "      <th>min</th>\n",
       "      <td>5.908031</td>\n",
       "      <td>42.180115</td>\n",
       "      <td>25.536150</td>\n",
       "      <td>85.500839</td>\n",
       "      <td>17.790277</td>\n",
       "      <td>18.044788</td>\n",
       "      <td>6.858929</td>\n",
       "      <td>54.130001</td>\n",
       "      <td>29.000000</td>\n",
       "      <td>107.570000</td>\n",
       "      <td>...</td>\n",
       "      <td>28.730000</td>\n",
       "      <td>108.000000</td>\n",
       "      <td>25.110001</td>\n",
       "      <td>23.090000</td>\n",
       "      <td>4.590360e+07</td>\n",
       "      <td>7.889000e+05</td>\n",
       "      <td>2.165700e+06</td>\n",
       "      <td>1.193000e+06</td>\n",
       "      <td>2.996300e+06</td>\n",
       "      <td>7.425600e+06</td>\n",
       "    </tr>\n",
       "    <tr>\n",
       "      <th>25%</th>\n",
       "      <td>13.521920</td>\n",
       "      <td>60.512379</td>\n",
       "      <td>38.741524</td>\n",
       "      <td>118.516098</td>\n",
       "      <td>27.532042</td>\n",
       "      <td>23.572279</td>\n",
       "      <td>15.420357</td>\n",
       "      <td>73.739998</td>\n",
       "      <td>43.470001</td>\n",
       "      <td>145.990005</td>\n",
       "      <td>...</td>\n",
       "      <td>43.470001</td>\n",
       "      <td>146.000000</td>\n",
       "      <td>36.174999</td>\n",
       "      <td>28.969999</td>\n",
       "      <td>1.371600e+08</td>\n",
       "      <td>3.108500e+06</td>\n",
       "      <td>6.056300e+06</td>\n",
       "      <td>3.310000e+06</td>\n",
       "      <td>1.082690e+07</td>\n",
       "      <td>2.590170e+07</td>\n",
       "    </tr>\n",
       "    <tr>\n",
       "      <th>50%</th>\n",
       "      <td>21.490923</td>\n",
       "      <td>111.240807</td>\n",
       "      <td>79.018356</td>\n",
       "      <td>129.013351</td>\n",
       "      <td>32.740440</td>\n",
       "      <td>36.753197</td>\n",
       "      <td>23.747499</td>\n",
       "      <td>127.639999</td>\n",
       "      <td>85.860001</td>\n",
       "      <td>162.039993</td>\n",
       "      <td>...</td>\n",
       "      <td>86.000000</td>\n",
       "      <td>162.000000</td>\n",
       "      <td>40.689999</td>\n",
       "      <td>41.610001</td>\n",
       "      <td>2.498160e+08</td>\n",
       "      <td>4.091200e+06</td>\n",
       "      <td>7.603600e+06</td>\n",
       "      <td>4.168400e+06</td>\n",
       "      <td>1.354870e+07</td>\n",
       "      <td>3.599450e+07</td>\n",
       "    </tr>\n",
       "    <tr>\n",
       "      <th>75%</th>\n",
       "      <td>29.002626</td>\n",
       "      <td>135.348984</td>\n",
       "      <td>99.532654</td>\n",
       "      <td>140.112030</td>\n",
       "      <td>37.310146</td>\n",
       "      <td>54.549843</td>\n",
       "      <td>31.695000</td>\n",
       "      <td>152.250000</td>\n",
       "      <td>104.220001</td>\n",
       "      <td>185.919998</td>\n",
       "      <td>...</td>\n",
       "      <td>104.230003</td>\n",
       "      <td>185.600006</td>\n",
       "      <td>43.320000</td>\n",
       "      <td>58.650002</td>\n",
       "      <td>4.298896e+08</td>\n",
       "      <td>5.331900e+06</td>\n",
       "      <td>9.949000e+06</td>\n",
       "      <td>5.398900e+06</td>\n",
       "      <td>1.754960e+07</td>\n",
       "      <td>5.159570e+07</td>\n",
       "    </tr>\n",
       "    <tr>\n",
       "      <th>max</th>\n",
       "      <td>56.387985</td>\n",
       "      <td>398.570557</td>\n",
       "      <td>116.560318</td>\n",
       "      <td>159.538162</td>\n",
       "      <td>46.845711</td>\n",
       "      <td>111.988419</td>\n",
       "      <td>58.017502</td>\n",
       "      <td>410.179993</td>\n",
       "      <td>121.690002</td>\n",
       "      <td>215.800003</td>\n",
       "      <td>...</td>\n",
       "      <td>121.500000</td>\n",
       "      <td>215.380005</td>\n",
       "      <td>50.820000</td>\n",
       "      <td>115.419998</td>\n",
       "      <td>1.880998e+09</td>\n",
       "      <td>4.439180e+07</td>\n",
       "      <td>8.704850e+07</td>\n",
       "      <td>3.049020e+07</td>\n",
       "      <td>9.896750e+07</td>\n",
       "      <td>3.193179e+08</td>\n",
       "    </tr>\n",
       "  </tbody>\n",
       "</table>\n",
       "<p>8 rows × 36 columns</p>\n",
       "</div>"
      ],
      "text/plain": [
       "         Adj Close                                                      \\\n",
       "              AAPL           BA          DIS          IBM           KO   \n",
       "count  2289.000000  2289.000000  2289.000000  2289.000000  2289.000000   \n",
       "mean     23.069882   130.148071    71.625703   126.885291    32.152466   \n",
       "std      11.758983    88.687133    29.818073    16.959474     6.786859   \n",
       "min       5.908031    42.180115    25.536150    85.500839    17.790277   \n",
       "25%      13.521920    60.512379    38.741524   118.516098    27.532042   \n",
       "50%      21.490923   111.240807    79.018356   129.013351    32.740440   \n",
       "75%      29.002626   135.348984    99.532654   140.112030    37.310146   \n",
       "max      56.387985   398.570557   116.560318   159.538162    46.845711   \n",
       "\n",
       "                          Close                                         ...  \\\n",
       "              MSFT         AAPL           BA          DIS          IBM  ...   \n",
       "count  2289.000000  2289.000000  2289.000000  2289.000000  2289.000000  ...   \n",
       "mean     43.947906    25.003036   144.064513    76.563272   164.363194  ...   \n",
       "std      25.090229    11.727062    88.321575    29.837647    24.157742  ...   \n",
       "min      18.044788     6.858929    54.130001    29.000000   107.570000  ...   \n",
       "25%      23.572279    15.420357    73.739998    43.470001   145.990005  ...   \n",
       "50%      36.753197    23.747499   127.639999    85.860001   162.039993  ...   \n",
       "75%      54.549843    31.695000   152.250000   104.220001   185.919998  ...   \n",
       "max     111.988419    58.017502   410.179993   121.690002   215.800003  ...   \n",
       "\n",
       "              Open                                               Volume  \\\n",
       "               DIS          IBM           KO         MSFT          AAPL   \n",
       "count  2289.000000  2289.000000  2289.000000  2289.000000  2.289000e+03   \n",
       "mean     76.558703   164.305963    39.367005    48.649244  3.187362e+08   \n",
       "std      29.868884    24.143379     5.568519    24.463537  2.380407e+08   \n",
       "min      28.730000   108.000000    25.110001    23.090000  4.590360e+07   \n",
       "25%      43.470001   146.000000    36.174999    28.969999  1.371600e+08   \n",
       "50%      86.000000   162.000000    40.689999    41.610001  2.498160e+08   \n",
       "75%     104.230003   185.600006    43.320000    58.650002  4.298896e+08   \n",
       "max     121.500000   215.380005    50.820000   115.419998  1.880998e+09   \n",
       "\n",
       "                                                                             \n",
       "                 BA           DIS           IBM            KO          MSFT  \n",
       "count  2.289000e+03  2.289000e+03  2.289000e+03  2.289000e+03  2.289000e+03  \n",
       "mean   4.600220e+06  8.780499e+06  4.804254e+06  1.503044e+07  4.154675e+07  \n",
       "std    2.440858e+06  4.912058e+06  2.526676e+06  6.573916e+06  2.338828e+07  \n",
       "min    7.889000e+05  2.165700e+06  1.193000e+06  2.996300e+06  7.425600e+06  \n",
       "25%    3.108500e+06  6.056300e+06  3.310000e+06  1.082690e+07  2.590170e+07  \n",
       "50%    4.091200e+06  7.603600e+06  4.168400e+06  1.354870e+07  3.599450e+07  \n",
       "75%    5.331900e+06  9.949000e+06  5.398900e+06  1.754960e+07  5.159570e+07  \n",
       "max    4.439180e+07  8.704850e+07  3.049020e+07  9.896750e+07  3.193179e+08  \n",
       "\n",
       "[8 rows x 36 columns]"
      ]
     },
     "execution_count": 14,
     "metadata": {},
     "output_type": "execute_result"
    }
   ],
   "source": [
    "stocks.describe()"
   ]
  },
  {
   "cell_type": "code",
   "execution_count": 15,
   "metadata": {},
   "outputs": [],
   "source": [
    "close = stocks.loc[:, \"Close\"].copy()"
   ]
  },
  {
   "cell_type": "code",
   "execution_count": 16,
   "metadata": {},
   "outputs": [
    {
     "data": {
      "text/html": [
       "<div>\n",
       "<style scoped>\n",
       "    .dataframe tbody tr th:only-of-type {\n",
       "        vertical-align: middle;\n",
       "    }\n",
       "\n",
       "    .dataframe tbody tr th {\n",
       "        vertical-align: top;\n",
       "    }\n",
       "\n",
       "    .dataframe thead th {\n",
       "        text-align: right;\n",
       "    }\n",
       "</style>\n",
       "<table border=\"1\" class=\"dataframe\">\n",
       "  <thead>\n",
       "    <tr style=\"text-align: right;\">\n",
       "      <th></th>\n",
       "      <th>AAPL</th>\n",
       "      <th>BA</th>\n",
       "      <th>DIS</th>\n",
       "      <th>IBM</th>\n",
       "      <th>KO</th>\n",
       "      <th>MSFT</th>\n",
       "    </tr>\n",
       "    <tr>\n",
       "      <th>Date</th>\n",
       "      <th></th>\n",
       "      <th></th>\n",
       "      <th></th>\n",
       "      <th></th>\n",
       "      <th></th>\n",
       "      <th></th>\n",
       "    </tr>\n",
       "  </thead>\n",
       "  <tbody>\n",
       "    <tr>\n",
       "      <th>2009-12-31</th>\n",
       "      <td>7.526071</td>\n",
       "      <td>54.130001</td>\n",
       "      <td>32.25</td>\n",
       "      <td>130.899994</td>\n",
       "      <td>28.500000</td>\n",
       "      <td>30.480000</td>\n",
       "    </tr>\n",
       "    <tr>\n",
       "      <th>2010-01-04</th>\n",
       "      <td>7.643214</td>\n",
       "      <td>56.180000</td>\n",
       "      <td>32.07</td>\n",
       "      <td>132.449997</td>\n",
       "      <td>28.520000</td>\n",
       "      <td>30.950001</td>\n",
       "    </tr>\n",
       "    <tr>\n",
       "      <th>2010-01-05</th>\n",
       "      <td>7.656429</td>\n",
       "      <td>58.020000</td>\n",
       "      <td>31.99</td>\n",
       "      <td>130.850006</td>\n",
       "      <td>28.174999</td>\n",
       "      <td>30.959999</td>\n",
       "    </tr>\n",
       "    <tr>\n",
       "      <th>2010-01-06</th>\n",
       "      <td>7.534643</td>\n",
       "      <td>59.779999</td>\n",
       "      <td>31.82</td>\n",
       "      <td>130.000000</td>\n",
       "      <td>28.165001</td>\n",
       "      <td>30.770000</td>\n",
       "    </tr>\n",
       "    <tr>\n",
       "      <th>2010-01-07</th>\n",
       "      <td>7.520714</td>\n",
       "      <td>62.200001</td>\n",
       "      <td>31.83</td>\n",
       "      <td>129.550003</td>\n",
       "      <td>28.094999</td>\n",
       "      <td>30.450001</td>\n",
       "    </tr>\n",
       "  </tbody>\n",
       "</table>\n",
       "</div>"
      ],
      "text/plain": [
       "                AAPL         BA    DIS         IBM         KO       MSFT\n",
       "Date                                                                    \n",
       "2009-12-31  7.526071  54.130001  32.25  130.899994  28.500000  30.480000\n",
       "2010-01-04  7.643214  56.180000  32.07  132.449997  28.520000  30.950001\n",
       "2010-01-05  7.656429  58.020000  31.99  130.850006  28.174999  30.959999\n",
       "2010-01-06  7.534643  59.779999  31.82  130.000000  28.165001  30.770000\n",
       "2010-01-07  7.520714  62.200001  31.83  129.550003  28.094999  30.450001"
      ]
     },
     "execution_count": 16,
     "metadata": {},
     "output_type": "execute_result"
    }
   ],
   "source": [
    "close.head()"
   ]
  },
  {
   "cell_type": "code",
   "execution_count": 17,
   "metadata": {},
   "outputs": [],
   "source": [
    "import matplotlib.pyplot as plt\n",
    "plt.style.use(\"seaborn\")"
   ]
  },
  {
   "cell_type": "code",
   "execution_count": 18,
   "metadata": {
    "scrolled": false
   },
   "outputs": [
    {
     "data": {
      "image/png": "[encoded data removed]",
      "text/plain": [
       "<Figure size 1080x576 with 1 Axes>"
      ]
     },
     "metadata": {},
     "output_type": "display_data"
    }
   ],
   "source": [
    "close.plot(figsize = (15, 8 ), fontsize = 13)\n",
    "plt.legend(fontsize = 13)\n",
    "plt.show()"
   ]
  },
  {
   "cell_type": "code",
   "execution_count": null,
   "metadata": {},
   "outputs": [],
   "source": []
  },
  {
   "cell_type": "markdown",
   "metadata": {},
   "source": [
    "### Normalizing Time Series to a Base Value (100)"
   ]
  },
  {
   "cell_type": "code",
   "execution_count": 19,
   "metadata": {},
   "outputs": [
    {
     "data": {
      "text/html": [
       "<div>\n",
       "<style scoped>\n",
       "    .dataframe tbody tr th:only-of-type {\n",
       "        vertical-align: middle;\n",
       "    }\n",
       "\n",
       "    .dataframe tbody tr th {\n",
       "        vertical-align: top;\n",
       "    }\n",
       "\n",
       "    .dataframe thead th {\n",
       "        text-align: right;\n",
       "    }\n",
       "</style>\n",
       "<table border=\"1\" class=\"dataframe\">\n",
       "  <thead>\n",
       "    <tr style=\"text-align: right;\">\n",
       "      <th></th>\n",
       "      <th>AAPL</th>\n",
       "      <th>BA</th>\n",
       "      <th>DIS</th>\n",
       "      <th>IBM</th>\n",
       "      <th>KO</th>\n",
       "      <th>MSFT</th>\n",
       "    </tr>\n",
       "    <tr>\n",
       "      <th>Date</th>\n",
       "      <th></th>\n",
       "      <th></th>\n",
       "      <th></th>\n",
       "      <th></th>\n",
       "      <th></th>\n",
       "      <th></th>\n",
       "    </tr>\n",
       "  </thead>\n",
       "  <tbody>\n",
       "    <tr>\n",
       "      <th>2009-12-31</th>\n",
       "      <td>7.526071</td>\n",
       "      <td>54.130001</td>\n",
       "      <td>32.25</td>\n",
       "      <td>130.899994</td>\n",
       "      <td>28.500000</td>\n",
       "      <td>30.480000</td>\n",
       "    </tr>\n",
       "    <tr>\n",
       "      <th>2010-01-04</th>\n",
       "      <td>7.643214</td>\n",
       "      <td>56.180000</td>\n",
       "      <td>32.07</td>\n",
       "      <td>132.449997</td>\n",
       "      <td>28.520000</td>\n",
       "      <td>30.950001</td>\n",
       "    </tr>\n",
       "    <tr>\n",
       "      <th>2010-01-05</th>\n",
       "      <td>7.656429</td>\n",
       "      <td>58.020000</td>\n",
       "      <td>31.99</td>\n",
       "      <td>130.850006</td>\n",
       "      <td>28.174999</td>\n",
       "      <td>30.959999</td>\n",
       "    </tr>\n",
       "    <tr>\n",
       "      <th>2010-01-06</th>\n",
       "      <td>7.534643</td>\n",
       "      <td>59.779999</td>\n",
       "      <td>31.82</td>\n",
       "      <td>130.000000</td>\n",
       "      <td>28.165001</td>\n",
       "      <td>30.770000</td>\n",
       "    </tr>\n",
       "    <tr>\n",
       "      <th>2010-01-07</th>\n",
       "      <td>7.520714</td>\n",
       "      <td>62.200001</td>\n",
       "      <td>31.83</td>\n",
       "      <td>129.550003</td>\n",
       "      <td>28.094999</td>\n",
       "      <td>30.450001</td>\n",
       "    </tr>\n",
       "  </tbody>\n",
       "</table>\n",
       "</div>"
      ],
      "text/plain": [
       "                AAPL         BA    DIS         IBM         KO       MSFT\n",
       "Date                                                                    \n",
       "2009-12-31  7.526071  54.130001  32.25  130.899994  28.500000  30.480000\n",
       "2010-01-04  7.643214  56.180000  32.07  132.449997  28.520000  30.950001\n",
       "2010-01-05  7.656429  58.020000  31.99  130.850006  28.174999  30.959999\n",
       "2010-01-06  7.534643  59.779999  31.82  130.000000  28.165001  30.770000\n",
       "2010-01-07  7.520714  62.200001  31.83  129.550003  28.094999  30.450001"
      ]
     },
     "execution_count": 19,
     "metadata": {},
     "output_type": "execute_result"
    }
   ],
   "source": [
    "close.head()"
   ]
  },
  {
   "cell_type": "code",
   "execution_count": 20,
   "metadata": {},
   "outputs": [
    {
     "data": {
      "text/plain": [
       "7.526071071624756"
      ]
     },
     "execution_count": 20,
     "metadata": {},
     "output_type": "execute_result"
    }
   ],
   "source": [
    "close.iloc[0,0]"
   ]
  },
  {
   "cell_type": "code",
   "execution_count": 26,
   "metadata": {
    "scrolled": true
   },
   "outputs": [
    {
     "data": {
      "text/plain": [
       "Date\n",
       "2009-12-31    1.000000\n",
       "2010-01-04    1.015565\n",
       "2010-01-05    1.017321\n",
       "2010-01-06    1.001139\n",
       "2010-01-07    0.999288\n",
       "                ...   \n",
       "2019-01-30    5.489252\n",
       "2019-01-31    5.528781\n",
       "2019-02-01    5.531439\n",
       "2019-02-04    5.688559\n",
       "2019-02-05    5.785887\n",
       "Name: AAPL, Length: 2289, dtype: float64"
      ]
     },
     "execution_count": 26,
     "metadata": {},
     "output_type": "execute_result"
    }
   ],
   "source": [
    "close.AAPL.div(close.iloc[0,0])#.mul(100)"
   ]
  },
  {
   "cell_type": "code",
   "execution_count": 27,
   "metadata": {
    "scrolled": true
   },
   "outputs": [
    {
     "data": {
      "text/plain": [
       "AAPL      7.526071\n",
       "BA       54.130001\n",
       "DIS      32.250000\n",
       "IBM     130.899994\n",
       "KO       28.500000\n",
       "MSFT     30.480000\n",
       "Name: 2009-12-31 00:00:00, dtype: float64"
      ]
     },
     "execution_count": 27,
     "metadata": {},
     "output_type": "execute_result"
    }
   ],
   "source": [
    "close.iloc[0]"
   ]
  },
  {
   "cell_type": "code",
   "execution_count": 28,
   "metadata": {
    "scrolled": true
   },
   "outputs": [
    {
     "data": {
      "text/html": [
       "<div>\n",
       "<style scoped>\n",
       "    .dataframe tbody tr th:only-of-type {\n",
       "        vertical-align: middle;\n",
       "    }\n",
       "\n",
       "    .dataframe tbody tr th {\n",
       "        vertical-align: top;\n",
       "    }\n",
       "\n",
       "    .dataframe thead th {\n",
       "        text-align: right;\n",
       "    }\n",
       "</style>\n",
       "<table border=\"1\" class=\"dataframe\">\n",
       "  <thead>\n",
       "    <tr style=\"text-align: right;\">\n",
       "      <th></th>\n",
       "      <th>AAPL</th>\n",
       "      <th>BA</th>\n",
       "      <th>DIS</th>\n",
       "      <th>IBM</th>\n",
       "      <th>KO</th>\n",
       "      <th>MSFT</th>\n",
       "    </tr>\n",
       "    <tr>\n",
       "      <th>Date</th>\n",
       "      <th></th>\n",
       "      <th></th>\n",
       "      <th></th>\n",
       "      <th></th>\n",
       "      <th></th>\n",
       "      <th></th>\n",
       "    </tr>\n",
       "  </thead>\n",
       "  <tbody>\n",
       "    <tr>\n",
       "      <th>2009-12-31</th>\n",
       "      <td>100.000000</td>\n",
       "      <td>100.000000</td>\n",
       "      <td>100.000000</td>\n",
       "      <td>100.000000</td>\n",
       "      <td>100.000000</td>\n",
       "      <td>100.000000</td>\n",
       "    </tr>\n",
       "    <tr>\n",
       "      <th>2010-01-04</th>\n",
       "      <td>101.556498</td>\n",
       "      <td>103.787178</td>\n",
       "      <td>99.441860</td>\n",
       "      <td>101.184112</td>\n",
       "      <td>100.070177</td>\n",
       "      <td>101.541999</td>\n",
       "    </tr>\n",
       "    <tr>\n",
       "      <th>2010-01-05</th>\n",
       "      <td>101.732082</td>\n",
       "      <td>107.186402</td>\n",
       "      <td>99.193798</td>\n",
       "      <td>99.961812</td>\n",
       "      <td>98.859646</td>\n",
       "      <td>101.574802</td>\n",
       "    </tr>\n",
       "    <tr>\n",
       "      <th>2010-01-06</th>\n",
       "      <td>100.113899</td>\n",
       "      <td>110.437830</td>\n",
       "      <td>98.666666</td>\n",
       "      <td>99.312457</td>\n",
       "      <td>98.824565</td>\n",
       "      <td>100.951447</td>\n",
       "    </tr>\n",
       "    <tr>\n",
       "      <th>2010-01-07</th>\n",
       "      <td>99.928817</td>\n",
       "      <td>114.908553</td>\n",
       "      <td>98.697674</td>\n",
       "      <td>98.968685</td>\n",
       "      <td>98.578945</td>\n",
       "      <td>99.901579</td>\n",
       "    </tr>\n",
       "    <tr>\n",
       "      <th>...</th>\n",
       "      <td>...</td>\n",
       "      <td>...</td>\n",
       "      <td>...</td>\n",
       "      <td>...</td>\n",
       "      <td>...</td>\n",
       "      <td>...</td>\n",
       "    </tr>\n",
       "    <tr>\n",
       "      <th>2019-01-30</th>\n",
       "      <td>548.925191</td>\n",
       "      <td>716.275621</td>\n",
       "      <td>341.488364</td>\n",
       "      <td>102.658526</td>\n",
       "      <td>167.929827</td>\n",
       "      <td>349.015744</td>\n",
       "    </tr>\n",
       "    <tr>\n",
       "      <th>2019-01-31</th>\n",
       "      <td>552.878125</td>\n",
       "      <td>712.396060</td>\n",
       "      <td>345.798439</td>\n",
       "      <td>102.689079</td>\n",
       "      <td>168.877197</td>\n",
       "      <td>342.618116</td>\n",
       "    </tr>\n",
       "    <tr>\n",
       "      <th>2019-02-01</th>\n",
       "      <td>553.143874</td>\n",
       "      <td>715.739858</td>\n",
       "      <td>345.116289</td>\n",
       "      <td>102.444624</td>\n",
       "      <td>170.877196</td>\n",
       "      <td>337.204725</td>\n",
       "    </tr>\n",
       "    <tr>\n",
       "      <th>2019-02-04</th>\n",
       "      <td>568.855909</td>\n",
       "      <td>733.419531</td>\n",
       "      <td>346.666676</td>\n",
       "      <td>103.277318</td>\n",
       "      <td>172.807018</td>\n",
       "      <td>346.916009</td>\n",
       "    </tr>\n",
       "    <tr>\n",
       "      <th>2019-02-05</th>\n",
       "      <td>578.588719</td>\n",
       "      <td>757.768307</td>\n",
       "      <td>349.333345</td>\n",
       "      <td>103.552337</td>\n",
       "      <td>172.842099</td>\n",
       "      <td>351.771663</td>\n",
       "    </tr>\n",
       "  </tbody>\n",
       "</table>\n",
       "<p>2289 rows × 6 columns</p>\n",
       "</div>"
      ],
      "text/plain": [
       "                  AAPL          BA         DIS         IBM          KO  \\\n",
       "Date                                                                     \n",
       "2009-12-31  100.000000  100.000000  100.000000  100.000000  100.000000   \n",
       "2010-01-04  101.556498  103.787178   99.441860  101.184112  100.070177   \n",
       "2010-01-05  101.732082  107.186402   99.193798   99.961812   98.859646   \n",
       "2010-01-06  100.113899  110.437830   98.666666   99.312457   98.824565   \n",
       "2010-01-07   99.928817  114.908553   98.697674   98.968685   98.578945   \n",
       "...                ...         ...         ...         ...         ...   \n",
       "2019-01-30  548.925191  716.275621  341.488364  102.658526  167.929827   \n",
       "2019-01-31  552.878125  712.396060  345.798439  102.689079  168.877197   \n",
       "2019-02-01  553.143874  715.739858  345.116289  102.444624  170.877196   \n",
       "2019-02-04  568.855909  733.419531  346.666676  103.277318  172.807018   \n",
       "2019-02-05  578.588719  757.768307  349.333345  103.552337  172.842099   \n",
       "\n",
       "                  MSFT  \n",
       "Date                    \n",
       "2009-12-31  100.000000  \n",
       "2010-01-04  101.541999  \n",
       "2010-01-05  101.574802  \n",
       "2010-01-06  100.951447  \n",
       "2010-01-07   99.901579  \n",
       "...                ...  \n",
       "2019-01-30  349.015744  \n",
       "2019-01-31  342.618116  \n",
       "2019-02-01  337.204725  \n",
       "2019-02-04  346.916009  \n",
       "2019-02-05  351.771663  \n",
       "\n",
       "[2289 rows x 6 columns]"
      ]
     },
     "execution_count": 28,
     "metadata": {},
     "output_type": "execute_result"
    }
   ],
   "source": [
    "norm = close.div(close.iloc[0]).mul(100)\n",
    "norm"
   ]
  },
  {
   "cell_type": "code",
   "execution_count": 25,
   "metadata": {},
   "outputs": [
    {
     "data": {
      "image/png": "[encoded data removed]",
      "text/plain": [
       "<Figure size 1080x576 with 1 Axes>"
      ]
     },
     "metadata": {},
     "output_type": "display_data"
    }
   ],
   "source": [
    "norm.plot(figsize = (15, 8 ), fontsize = 13)\n",
    "plt.legend(fontsize = 13)\n",
    "plt.show()"
   ]
  },
  {
   "cell_type": "code",
   "execution_count": null,
   "metadata": {},
   "outputs": [],
   "source": []
  },
  {
   "cell_type": "markdown",
   "metadata": {},
   "source": [
    "### The shift() method"
   ]
  },
  {
   "cell_type": "code",
   "execution_count": null,
   "metadata": {},
   "outputs": [],
   "source": [
    "close.head()"
   ]
  },
  {
   "cell_type": "code",
   "execution_count": null,
   "metadata": {},
   "outputs": [],
   "source": [
    "aapl = close.AAPL.copy().to_frame()"
   ]
  },
  {
   "cell_type": "code",
   "execution_count": null,
   "metadata": {},
   "outputs": [],
   "source": [
    "aapl.head()"
   ]
  },
  {
   "cell_type": "code",
   "execution_count": null,
   "metadata": {
    "scrolled": true
   },
   "outputs": [],
   "source": [
    "aapl.shift(periods = 1)"
   ]
  },
  {
   "cell_type": "code",
   "execution_count": null,
   "metadata": {},
   "outputs": [],
   "source": [
    "aapl[\"lag1\"] = aapl.shift(periods = 1)"
   ]
  },
  {
   "cell_type": "code",
   "execution_count": null,
   "metadata": {
    "scrolled": true
   },
   "outputs": [],
   "source": [
    "aapl.head()"
   ]
  },
  {
   "cell_type": "code",
   "execution_count": null,
   "metadata": {
    "scrolled": true
   },
   "outputs": [],
   "source": [
    "aapl.AAPL.sub(aapl.lag1)"
   ]
  },
  {
   "cell_type": "code",
   "execution_count": null,
   "metadata": {},
   "outputs": [],
   "source": [
    "aapl[\"Diff\"] = aapl.AAPL.sub(aapl.lag1)"
   ]
  },
  {
   "cell_type": "code",
   "execution_count": null,
   "metadata": {},
   "outputs": [],
   "source": [
    "aapl.head()"
   ]
  },
  {
   "cell_type": "code",
   "execution_count": null,
   "metadata": {
    "scrolled": true
   },
   "outputs": [],
   "source": [
    "aapl.AAPL.div(aapl.lag1).sub(1).mul(100)"
   ]
  },
  {
   "cell_type": "code",
   "execution_count": null,
   "metadata": {},
   "outputs": [],
   "source": [
    "aapl[\"pct_change\"] = aapl.AAPL.div(aapl.lag1).sub(1).mul(100)"
   ]
  },
  {
   "cell_type": "code",
   "execution_count": null,
   "metadata": {
    "scrolled": true
   },
   "outputs": [],
   "source": [
    "aapl.head()"
   ]
  },
  {
   "cell_type": "code",
   "execution_count": null,
   "metadata": {},
   "outputs": [],
   "source": []
  },
  {
   "cell_type": "markdown",
   "metadata": {},
   "source": [
    "### The methods diff() and pct_change()"
   ]
  },
  {
   "cell_type": "code",
   "execution_count": null,
   "metadata": {},
   "outputs": [],
   "source": [
    "aapl.head()"
   ]
  },
  {
   "cell_type": "code",
   "execution_count": null,
   "metadata": {
    "scrolled": true
   },
   "outputs": [],
   "source": [
    "aapl.AAPL.diff(periods = 2)"
   ]
  },
  {
   "cell_type": "code",
   "execution_count": null,
   "metadata": {
    "scrolled": true
   },
   "outputs": [],
   "source": [
    "aapl[\"Diff2\"] = aapl.AAPL.diff(periods = 1)"
   ]
  },
  {
   "cell_type": "code",
   "execution_count": null,
   "metadata": {},
   "outputs": [],
   "source": [
    "aapl.head(10)"
   ]
  },
  {
   "cell_type": "code",
   "execution_count": null,
   "metadata": {},
   "outputs": [],
   "source": [
    "aapl.Diff.equals(aapl.Diff2)"
   ]
  },
  {
   "cell_type": "code",
   "execution_count": null,
   "metadata": {},
   "outputs": [],
   "source": [
    "aapl[\"pct_change2\"] = aapl.AAPL.pct_change(periods = 1).mul(100)"
   ]
  },
  {
   "cell_type": "code",
   "execution_count": null,
   "metadata": {},
   "outputs": [],
   "source": [
    "aapl.head()"
   ]
  },
  {
   "cell_type": "code",
   "execution_count": null,
   "metadata": {
    "scrolled": true
   },
   "outputs": [],
   "source": [
    "aapl.AAPL.resample(\"BM\").last().pct_change(periods =1).mul(100)"
   ]
  },
  {
   "cell_type": "code",
   "execution_count": null,
   "metadata": {},
   "outputs": [],
   "source": []
  },
  {
   "cell_type": "markdown",
   "metadata": {},
   "source": [
    "### Measuring Stock Perfromance with MEAN Return and STD of Returns"
   ]
  },
  {
   "cell_type": "code",
   "execution_count": null,
   "metadata": {},
   "outputs": [],
   "source": [
    "import numpy as np"
   ]
  },
  {
   "cell_type": "code",
   "execution_count": null,
   "metadata": {},
   "outputs": [],
   "source": [
    "aapl = close.AAPL.copy().to_frame()"
   ]
  },
  {
   "cell_type": "code",
   "execution_count": null,
   "metadata": {},
   "outputs": [],
   "source": [
    "aapl.head()"
   ]
  },
  {
   "cell_type": "code",
   "execution_count": null,
   "metadata": {
    "scrolled": true
   },
   "outputs": [],
   "source": [
    "aapl.pct_change().dropna()"
   ]
  },
  {
   "cell_type": "code",
   "execution_count": null,
   "metadata": {},
   "outputs": [],
   "source": [
    "ret = aapl.pct_change().dropna()\n",
    "ret.head()"
   ]
  },
  {
   "cell_type": "code",
   "execution_count": null,
   "metadata": {},
   "outputs": [],
   "source": [
    "ret.info()"
   ]
  },
  {
   "cell_type": "code",
   "execution_count": null,
   "metadata": {},
   "outputs": [],
   "source": [
    "ret.plot(kind = \"hist\", figsize = (12 ,8), bins = 100)\n",
    "plt.show()"
   ]
  },
  {
   "cell_type": "code",
   "execution_count": null,
   "metadata": {},
   "outputs": [],
   "source": [
    "daily_mean_Return = ret.mean()\n",
    "daily_mean_Return"
   ]
  },
  {
   "cell_type": "code",
   "execution_count": null,
   "metadata": {},
   "outputs": [],
   "source": [
    "var_daily_Returns = ret.var()\n",
    "var_daily_Returns"
   ]
  },
  {
   "cell_type": "code",
   "execution_count": null,
   "metadata": {},
   "outputs": [],
   "source": [
    "std_daily_Returns = np.sqrt(var_daily_Returns)\n",
    "std_daily_Returns"
   ]
  },
  {
   "cell_type": "code",
   "execution_count": null,
   "metadata": {},
   "outputs": [],
   "source": [
    "ret.std()"
   ]
  },
  {
   "cell_type": "code",
   "execution_count": null,
   "metadata": {},
   "outputs": [],
   "source": [
    "ann_mean_Return = ret.mean() * 252\n",
    "ann_mean_Return"
   ]
  },
  {
   "cell_type": "code",
   "execution_count": null,
   "metadata": {},
   "outputs": [],
   "source": [
    "ann_var_Returns = ret.var() * 252\n",
    "ann_var_Returns"
   ]
  },
  {
   "cell_type": "code",
   "execution_count": null,
   "metadata": {},
   "outputs": [],
   "source": [
    "ann_std_Returns = np.sqrt(ann_var_Returns)\n",
    "ann_std_Returns"
   ]
  },
  {
   "cell_type": "code",
   "execution_count": null,
   "metadata": {},
   "outputs": [],
   "source": [
    "ret.std() * np.sqrt(252)"
   ]
  },
  {
   "cell_type": "code",
   "execution_count": null,
   "metadata": {},
   "outputs": [],
   "source": []
  },
  {
   "cell_type": "markdown",
   "metadata": {},
   "source": [
    "### Financial Time Series - Return and Risk"
   ]
  },
  {
   "cell_type": "code",
   "execution_count": null,
   "metadata": {},
   "outputs": [],
   "source": [
    "import numpy as np"
   ]
  },
  {
   "cell_type": "code",
   "execution_count": null,
   "metadata": {},
   "outputs": [],
   "source": [
    "norm.plot(figsize = (15, 8 ), fontsize = 13)\n",
    "plt.legend(fontsize = 13)\n",
    "plt.show()"
   ]
  },
  {
   "cell_type": "code",
   "execution_count": null,
   "metadata": {},
   "outputs": [],
   "source": [
    "close.head()"
   ]
  },
  {
   "cell_type": "code",
   "execution_count": null,
   "metadata": {
    "scrolled": true
   },
   "outputs": [],
   "source": [
    "close.pct_change().dropna()"
   ]
  },
  {
   "cell_type": "code",
   "execution_count": null,
   "metadata": {},
   "outputs": [],
   "source": [
    "ret = close.pct_change().dropna()"
   ]
  },
  {
   "cell_type": "code",
   "execution_count": null,
   "metadata": {},
   "outputs": [],
   "source": [
    "ret.head()"
   ]
  },
  {
   "cell_type": "code",
   "execution_count": null,
   "metadata": {
    "scrolled": true
   },
   "outputs": [],
   "source": [
    "ret.describe().T.loc[:, [\"mean\", \"std\"]]"
   ]
  },
  {
   "cell_type": "code",
   "execution_count": null,
   "metadata": {
    "scrolled": true
   },
   "outputs": [],
   "source": [
    "summary = ret.describe().T.loc[:, [\"mean\", \"std\"]]\n",
    "summary"
   ]
  },
  {
   "cell_type": "code",
   "execution_count": null,
   "metadata": {},
   "outputs": [],
   "source": [
    "summary[\"mean\"] = summary[\"mean\"]*252\n",
    "summary[\"std\"] = summary[\"std\"] * np.sqrt(252)"
   ]
  },
  {
   "cell_type": "code",
   "execution_count": null,
   "metadata": {
    "scrolled": true
   },
   "outputs": [],
   "source": [
    "summary"
   ]
  },
  {
   "cell_type": "code",
   "execution_count": null,
   "metadata": {},
   "outputs": [],
   "source": [
    "summary.plot(kind = \"scatter\", x = \"std\", y = \"mean\", figsize = (15,12), s = 50, fontsize = 15)\n",
    "for i in summary.index:\n",
    "    plt.annotate(i, xy=(summary.loc[i, \"std\"]+0.002, summary.loc[i, \"mean\"]+0.002), size = 15)\n",
    "plt.xlabel(\"ann. Risk(std)\", fontsize = 15)\n",
    "plt.ylabel(\"ann. Return\", fontsize = 15)\n",
    "plt.title(\"Risk/Return\", fontsize = 20)\n",
    "plt.show()"
   ]
  },
  {
   "cell_type": "code",
   "execution_count": null,
   "metadata": {},
   "outputs": [],
   "source": []
  },
  {
   "cell_type": "markdown",
   "metadata": {},
   "source": [
    "### Financial Time Series - Covariance and Correlation"
   ]
  },
  {
   "cell_type": "code",
   "execution_count": null,
   "metadata": {},
   "outputs": [],
   "source": [
    "ret.head()"
   ]
  },
  {
   "cell_type": "code",
   "execution_count": null,
   "metadata": {},
   "outputs": [],
   "source": [
    "ret.cov()"
   ]
  },
  {
   "cell_type": "code",
   "execution_count": null,
   "metadata": {},
   "outputs": [],
   "source": [
    "ret.corr()"
   ]
  },
  {
   "cell_type": "code",
   "execution_count": null,
   "metadata": {},
   "outputs": [],
   "source": [
    "import seaborn as sns"
   ]
  },
  {
   "cell_type": "code",
   "execution_count": null,
   "metadata": {},
   "outputs": [],
   "source": [
    "plt.figure(figsize=(12,8))\n",
    "sns.set(font_scale=1.4)\n",
    "sns.heatmap(ret.corr(), cmap = \"Reds\", annot = True, annot_kws={\"size\":15}, vmax = 0.6)\n",
    "plt.show()"
   ]
  },
  {
   "cell_type": "code",
   "execution_count": null,
   "metadata": {},
   "outputs": [],
   "source": []
  },
  {
   "cell_type": "markdown",
   "metadata": {},
   "source": [
    "### Helpful DatetimeIndex Attributes and Methods"
   ]
  },
  {
   "cell_type": "code",
   "execution_count": null,
   "metadata": {},
   "outputs": [],
   "source": [
    "import pandas as pd"
   ]
  },
  {
   "cell_type": "code",
   "execution_count": null,
   "metadata": {},
   "outputs": [],
   "source": [
    "stocks = pd.read_csv(\"stocks.csv\", header = [0,1], index_col= [0], parse_dates= [0])"
   ]
  },
  {
   "cell_type": "code",
   "execution_count": null,
   "metadata": {},
   "outputs": [],
   "source": [
    "stocks.head()"
   ]
  },
  {
   "cell_type": "code",
   "execution_count": null,
   "metadata": {},
   "outputs": [],
   "source": [
    "close = stocks.loc[:, \"Close\"].copy()"
   ]
  },
  {
   "cell_type": "code",
   "execution_count": null,
   "metadata": {},
   "outputs": [],
   "source": [
    "close.head()"
   ]
  },
  {
   "cell_type": "code",
   "execution_count": null,
   "metadata": {},
   "outputs": [],
   "source": [
    "close.info()"
   ]
  },
  {
   "cell_type": "code",
   "execution_count": null,
   "metadata": {},
   "outputs": [],
   "source": [
    "close.index"
   ]
  },
  {
   "cell_type": "code",
   "execution_count": null,
   "metadata": {},
   "outputs": [],
   "source": [
    "close.index.day"
   ]
  },
  {
   "cell_type": "code",
   "execution_count": null,
   "metadata": {},
   "outputs": [],
   "source": [
    "close.index.month"
   ]
  },
  {
   "cell_type": "code",
   "execution_count": null,
   "metadata": {},
   "outputs": [],
   "source": [
    "close.index.year"
   ]
  },
  {
   "cell_type": "code",
   "execution_count": null,
   "metadata": {},
   "outputs": [],
   "source": [
    "close.index.day_name()"
   ]
  },
  {
   "cell_type": "code",
   "execution_count": null,
   "metadata": {},
   "outputs": [],
   "source": [
    "close.index.month_name()"
   ]
  },
  {
   "cell_type": "code",
   "execution_count": null,
   "metadata": {},
   "outputs": [],
   "source": [
    " close.index.weekday"
   ]
  },
  {
   "cell_type": "code",
   "execution_count": null,
   "metadata": {},
   "outputs": [],
   "source": [
    "close.index.quarter"
   ]
  },
  {
   "cell_type": "code",
   "execution_count": null,
   "metadata": {},
   "outputs": [],
   "source": [
    "close.index.days_in_month"
   ]
  },
  {
   "cell_type": "code",
   "execution_count": null,
   "metadata": {},
   "outputs": [],
   "source": [
    "close.index.week"
   ]
  },
  {
   "cell_type": "code",
   "execution_count": null,
   "metadata": {},
   "outputs": [],
   "source": [
    "close.index.weekofyear"
   ]
  },
  {
   "cell_type": "code",
   "execution_count": null,
   "metadata": {
    "scrolled": true
   },
   "outputs": [],
   "source": [
    "close.index.is_month_end"
   ]
  },
  {
   "cell_type": "code",
   "execution_count": null,
   "metadata": {},
   "outputs": [],
   "source": [
    "close[\"Day\"] = stocks.index.day_name()\n",
    "close[\"Quarter\"] = stocks.index.quarter"
   ]
  },
  {
   "cell_type": "code",
   "execution_count": null,
   "metadata": {
    "scrolled": true
   },
   "outputs": [],
   "source": [
    "close.head()"
   ]
  },
  {
   "cell_type": "code",
   "execution_count": null,
   "metadata": {},
   "outputs": [],
   "source": []
  },
  {
   "cell_type": "markdown",
   "metadata": {},
   "source": [
    "### Filling NA Values with bfill, ffill and interpolation"
   ]
  },
  {
   "cell_type": "code",
   "execution_count": null,
   "metadata": {},
   "outputs": [],
   "source": [
    "close.head()"
   ]
  },
  {
   "cell_type": "code",
   "execution_count": null,
   "metadata": {},
   "outputs": [],
   "source": [
    "close.tail()"
   ]
  },
  {
   "cell_type": "code",
   "execution_count": null,
   "metadata": {},
   "outputs": [],
   "source": [
    "all_days = pd.date_range(start = \"2009-12-31\", end = \"2019-02-06\", freq = \"D\")\n",
    "all_days"
   ]
  },
  {
   "cell_type": "code",
   "execution_count": null,
   "metadata": {
    "scrolled": true
   },
   "outputs": [],
   "source": [
    "close = close.reindex(all_days)"
   ]
  },
  {
   "cell_type": "code",
   "execution_count": null,
   "metadata": {},
   "outputs": [],
   "source": [
    "close.head(20)"
   ]
  },
  {
   "cell_type": "code",
   "execution_count": null,
   "metadata": {},
   "outputs": [],
   "source": [
    "close.Day = close.index.day_name()\n",
    "close.Quarter = close.index.quarter"
   ]
  },
  {
   "cell_type": "code",
   "execution_count": null,
   "metadata": {
    "scrolled": true
   },
   "outputs": [],
   "source": [
    "close.fillna(method = \"ffill\", inplace= True)"
   ]
  },
  {
   "cell_type": "code",
   "execution_count": null,
   "metadata": {},
   "outputs": [],
   "source": [
    "close.head(15)"
   ]
  },
  {
   "cell_type": "code",
   "execution_count": null,
   "metadata": {},
   "outputs": [],
   "source": [
    "temp = pd.read_csv(\"temp.csv\", parse_dates=[\"datetime\"], index_col = \"datetime\")"
   ]
  },
  {
   "cell_type": "code",
   "execution_count": null,
   "metadata": {},
   "outputs": [],
   "source": [
    "temp.head(10)"
   ]
  },
  {
   "cell_type": "code",
   "execution_count": null,
   "metadata": {
    "scrolled": true
   },
   "outputs": [],
   "source": [
    "temp = temp.resample(\"30 Min\").mean()\n",
    "temp.head(10)"
   ]
  },
  {
   "cell_type": "code",
   "execution_count": null,
   "metadata": {
    "scrolled": true
   },
   "outputs": [],
   "source": [
    "temp.interpolate()"
   ]
  },
  {
   "cell_type": "code",
   "execution_count": null,
   "metadata": {},
   "outputs": [],
   "source": []
  }
 ],
 "metadata": {
  "kernelspec": {
   "display_name": "Python 3",
   "language": "python",
   "name": "python3"
  },
  "language_info": {
   "codemirror_mode": {
    "name": "ipython",
    "version": 3
   },
   "file_extension": ".py",
   "mimetype": "text/x-python",
   "name": "python",
   "nbconvert_exporter": "python",
   "pygments_lexer": "ipython3",
   "version": "3.8.5"
  }
 },
 "nbformat": 4,
 "nbformat_minor": 2
}

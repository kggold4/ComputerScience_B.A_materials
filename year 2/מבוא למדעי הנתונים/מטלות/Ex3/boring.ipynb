{
 "cells": [
  {
   "cell_type": "code",
   "execution_count": 9,
   "metadata": {},
   "outputs": [],
   "source": [
    "# 1\n",
    "# import numpy\n",
    "import numpy as np"
   ]
  },
  {
   "cell_type": "code",
   "execution_count": 34,
   "metadata": {},
   "outputs": [
    {
     "data": {
      "text/plain": [
       "list"
      ]
     },
     "execution_count": 34,
     "metadata": {},
     "output_type": "execute_result"
    }
   ],
   "source": [
    "# 2\n",
    "# crate numpy arrray like [1,2,...,30] and cast to python regular list\n",
    "list = np.arange(1,31).tolist()\n",
    "type(list)"
   ]
  },
  {
   "cell_type": "code",
   "execution_count": 37,
   "metadata": {},
   "outputs": [
    {
     "data": {
      "text/plain": [
       "numpy.ndarray"
      ]
     },
     "execution_count": 37,
     "metadata": {},
     "output_type": "execute_result"
    }
   ],
   "source": [
    "# 3\n",
    "# cast the list back to numpy array\n",
    "list = np.array(list)\n",
    "type(list)"
   ]
  },
  {
   "cell_type": "code",
   "execution_count": 40,
   "metadata": {},
   "outputs": [
    {
     "data": {
      "text/plain": [
       "array([[ 1,  2,  3,  4,  5],\n",
       "       [ 6,  7,  8,  9, 10],\n",
       "       [11, 12, 13, 14, 15],\n",
       "       [16, 17, 18, 19, 20],\n",
       "       [21, 22, 23, 24, 25],\n",
       "       [26, 27, 28, 29, 30]])"
      ]
     },
     "execution_count": 40,
     "metadata": {},
     "output_type": "execute_result"
    }
   ],
   "source": [
    "# 4\n",
    "list.shape = (6,5)\n",
    "list"
   ]
  },
  {
   "cell_type": "code",
   "execution_count": 67,
   "metadata": {},
   "outputs": [
    {
     "data": {
      "text/plain": [
       "65"
      ]
     },
     "execution_count": 67,
     "metadata": {},
     "output_type": "execute_result"
    }
   ],
   "source": [
    "# 5\n",
    "i = 0\n",
    "sum = 0\n",
    "for row in list:\n",
    "    j = 0\n",
    "    for val in row:\n",
    "        if i == j:\n",
    "            sum = sum + val\n",
    "        j = j + 1\n",
    "    i = i + 1\n",
    "sum"
   ]
  },
  {
   "cell_type": "code",
   "execution_count": 68,
   "metadata": {},
   "outputs": [
    {
     "data": {
      "text/plain": [
       "40"
      ]
     },
     "execution_count": 68,
     "metadata": {},
     "output_type": "execute_result"
    }
   ],
   "source": [
    "# 6\n",
    "np.sum(list[1])"
   ]
  },
  {
   "cell_type": "code",
   "execution_count": 69,
   "metadata": {},
   "outputs": [
    {
     "data": {
      "text/plain": [
       "array([[1, 1, 1, 1, 1],\n",
       "       [1, 1, 1, 1, 1],\n",
       "       [1, 1, 1, 1, 1],\n",
       "       [1, 1, 1, 1, 1],\n",
       "       [1, 1, 1, 1, 1],\n",
       "       [1, 1, 1, 1, 1]])"
      ]
     },
     "execution_count": 69,
     "metadata": {},
     "output_type": "execute_result"
    }
   ],
   "source": [
    "# 7\n",
    "list_ones = np.ones((6,5), dtype=int)\n",
    "list_ones"
   ]
  },
  {
   "cell_type": "code",
   "execution_count": 70,
   "metadata": {},
   "outputs": [
    {
     "data": {
      "text/plain": [
       "array([[ 2,  3,  4,  5,  6],\n",
       "       [ 7,  8,  9, 10, 11],\n",
       "       [12, 13, 14, 15, 16],\n",
       "       [17, 18, 19, 20, 21],\n",
       "       [22, 23, 24, 25, 26],\n",
       "       [27, 28, 29, 30, 31]])"
      ]
     },
     "execution_count": 70,
     "metadata": {},
     "output_type": "execute_result"
    }
   ],
   "source": [
    "# 8\n",
    "list + list_ones"
   ]
  },
  {
   "cell_type": "code",
   "execution_count": 103,
   "metadata": {},
   "outputs": [
    {
     "data": {
      "text/plain": [
       "array([[52, 30, 19, 54,  0, 70, 89, 57, 15, 26, 86, 35, 14, 48, 11, 45,\n",
       "        44,  9, 93, 77, 95, 47, 29, 84, 36, 46, 16, 60, 98,  2],\n",
       "       [40, 68, 61, 60, 22, 41, 61, 42, 60, 22, 93, 57, 56, 92, 22, 91,\n",
       "        21, 90, 37, 50, 50, 58,  5, 21, 54,  6,  9, 39, 19, 47],\n",
       "       [49,  8, 62, 66, 96, 10, 73, 13, 72, 15, 51, 61, 48, 49, 17,  5,\n",
       "        54, 27, 30, 63, 54, 20, 91, 12,  7,  1, 82, 84, 65, 44],\n",
       "       [78,  5, 17, 47, 62, 78, 66, 31, 25, 55, 33, 75, 23, 52, 13, 11,\n",
       "         8, 92, 67, 55, 50, 28,  3, 84, 25, 79, 83, 90, 59,  5],\n",
       "       [13, 35, 35, 64, 41, 79, 43, 32, 77, 61, 66,  2, 60, 93,  7,  1,\n",
       "        15, 65, 74, 93, 93, 42, 92, 46, 46, 98, 42, 90, 59, 41],\n",
       "       [66, 59, 98, 26, 84, 18, 39, 72, 37, 48, 74,  1, 24,  8, 59, 57,\n",
       "        60,  1, 85, 67, 75, 17, 62, 43, 85,  3, 60, 74, 35,  3],\n",
       "       [43, 40, 90, 80, 56, 34, 45, 71, 38, 43, 29, 40, 55, 43, 35, 75,\n",
       "        14, 22,  7, 91, 13, 68, 69, 70, 20, 90, 37, 27,  0, 38],\n",
       "       [56, 49, 87, 25, 47, 79, 89, 67, 92, 72, 62, 71, 65, 43, 42,  6,\n",
       "        38, 44, 25, 51, 13, 39, 37, 40, 18, 26, 44, 22, 19, 35],\n",
       "       [24, 73, 67, 97, 28, 87, 29, 33, 80, 18, 50, 90, 64, 85, 44, 24,\n",
       "        60, 12, 24, 25, 62, 13,  8, 81, 63, 30, 84, 81, 33, 44],\n",
       "       [98, 47, 84, 28, 74, 76, 33,  3, 67, 56, 68, 71, 45, 18, 10, 81,\n",
       "        90, 25, 82, 63, 20, 88, 56, 64, 77, 75, 70, 81, 41, 93],\n",
       "       [81, 46, 74, 28, 42, 76,  1, 53, 49, 97,  2, 91, 26,  4, 26, 33,\n",
       "        95, 33, 95, 43, 63, 68, 78, 84, 15,  4, 22, 50, 94, 33],\n",
       "       [64, 64, 74, 40, 63, 87, 82, 18, 66, 74, 93, 16,  9, 24, 51, 49,\n",
       "        26, 48, 66, 79, 11, 28, 14, 87, 72, 63, 70, 74, 90,  8],\n",
       "       [96, 65, 28, 89, 78,  8, 94, 49,  8, 55, 27, 52, 60, 91, 89, 71,\n",
       "        42, 57, 31, 64, 85, 64, 82, 74, 73, 25, 65,  3, 62, 52],\n",
       "       [ 3, 66,  9, 50, 53, 51, 74, 12, 36,  9,  3, 71, 27, 89, 27, 64,\n",
       "        12, 32, 47, 78, 91, 72, 30, 27, 45, 55, 24, 78, 89, 24],\n",
       "       [76, 81, 45, 85, 29, 53, 32, 54, 44, 81,  1, 16, 99, 56, 95, 78,\n",
       "        96, 76,  7, 97,  8, 77, 83, 60, 36,  5, 20, 98, 68, 18],\n",
       "       [19, 31, 73, 20, 36, 45, 57, 25, 48, 87,  2, 65, 42, 25, 69, 12,\n",
       "        28, 43, 69,  0, 78, 69, 15, 82,  3, 90, 48, 64, 35, 90],\n",
       "       [95, 13, 27, 92, 10, 82, 28, 55, 40, 38,  3, 68,  0,  2, 43, 36,\n",
       "        17, 61, 28, 83, 11,  6, 21, 16, 26, 45, 33, 64, 78, 49],\n",
       "       [19, 61, 17, 99, 63, 49, 73, 31, 80, 55, 47, 33, 70, 65, 80, 12,\n",
       "        48, 51, 13, 50, 49, 12, 56, 62, 71, 93, 64, 71, 53, 20],\n",
       "       [30, 55, 48, 27, 61, 21, 68, 82, 85, 74, 99, 22, 99, 63, 12, 81,\n",
       "         4, 97, 90, 31, 60, 86, 49, 12, 66, 15, 64, 28, 61, 59],\n",
       "       [ 8, 98, 89, 68, 22, 77, 70, 48, 35, 53, 45, 43, 38, 99, 66,  3,\n",
       "        27, 54, 30, 45, 66, 25, 54, 42, 81, 43, 65, 68, 49, 97],\n",
       "       [23, 57, 34, 66, 21, 44, 95, 12, 54, 50, 32, 50, 28, 36,  7, 69,\n",
       "        71, 10, 26, 97, 85, 30, 33, 72, 19, 78, 46, 75, 42, 75],\n",
       "       [42, 43, 73, 91, 77, 35, 93, 42,  9, 47,  6, 88, 41, 38, 15, 82,\n",
       "        68, 90, 79, 67, 84, 15, 42, 28,  5, 31, 97, 67, 47, 62],\n",
       "       [74, 62, 65, 38, 29, 67, 72, 80, 32, 12, 18, 45, 28, 89, 40, 66,\n",
       "        32, 32, 76, 60, 22, 66,  5, 57, 18, 42, 41, 39, 98, 65],\n",
       "       [10, 62, 49, 86, 96,  9, 55, 83, 61, 89, 66, 46, 59, 51, 84, 54,\n",
       "        40, 83, 60, 84, 87, 28,  1, 39, 55,  7, 70, 83, 84, 26],\n",
       "       [76, 99, 19, 10, 17, 91, 20, 56, 42, 65, 36, 43, 33, 95, 39, 48,\n",
       "        86, 97, 92, 25, 74, 88, 75, 10, 29, 30, 54,  5, 61, 95],\n",
       "       [72, 87, 53, 88, 93, 56, 95, 68, 10, 84, 24, 25, 86, 30, 93, 92,\n",
       "        26, 32, 49, 57, 32,  3, 32, 17, 50, 94, 56, 81, 18, 31],\n",
       "       [31, 18, 40, 80, 77, 60, 40, 73, 51, 67, 60, 64, 96, 85, 33, 84,\n",
       "         1, 29, 40, 67, 18, 71, 87, 98, 44, 93, 90, 45, 96, 63],\n",
       "       [87, 31, 12, 91, 81, 79, 75, 88,  3, 64, 21, 57, 41, 84, 41, 45,\n",
       "        44,  9, 68,  3, 99, 10, 32, 22, 57, 60, 16, 59, 58, 70],\n",
       "       [32,  5, 54, 60, 60, 13, 49, 94, 86, 72, 35, 70, 94, 23,  7, 10,\n",
       "        99, 55, 53, 13, 46, 20, 70, 17, 80, 42, 39, 99, 63, 72],\n",
       "       [82, 51, 14, 54, 82, 60, 76, 36,  6, 21, 30, 36, 76, 80, 18, 79,\n",
       "         0, 58, 17, 52, 52, 52, 13, 72, 47, 61, 70, 15, 95, 87]])"
      ]
     },
     "execution_count": 103,
     "metadata": {},
     "output_type": "execute_result"
    }
   ],
   "source": [
    "# 9\n",
    "mat3 = np.random.randint(100, size = (30,30))\n",
    "mat3"
   ]
  },
  {
   "cell_type": "code",
   "execution_count": 113,
   "metadata": {},
   "outputs": [
    {
     "name": "stdout",
     "output_type": "stream",
     "text": [
      "min:  0\n",
      "index of the minimum value is line  0 is  4\n",
      "index of the minimum value is line  6 is  28\n",
      "index of the minimum value is line  15 is  19\n",
      "index of the minimum value is line  16 is  12\n",
      "index of the minimum value is line  29 is  16\n"
     ]
    },
    {
     "data": {
      "text/plain": [
       "[]"
      ]
     },
     "execution_count": 113,
     "metadata": {},
     "output_type": "execute_result"
    }
   ],
   "source": [
    "# 10\n",
    "minimum = np.min(mat3)\n",
    "print(\"min: \", minimum)\n",
    "\n",
    "indexes = []\n",
    "i = 0\n",
    "sum = 0\n",
    "for row in mat3:\n",
    "    j = 0\n",
    "    for val in row:\n",
    "        if val == minimum:\n",
    "            print(\"index of the minimum value is line \", i, \"is \", j)\n",
    "        j = j + 1\n",
    "    i = i + 1\n",
    "indexes"
   ]
  },
  {
   "cell_type": "code",
   "execution_count": 115,
   "metadata": {},
   "outputs": [
    {
     "data": {
      "text/plain": [
       "array([[ 2, 91, 26,  4, 26, 33, 95, 33, 95, 43],\n",
       "       [93, 16,  9, 24, 51, 49, 26, 48, 66, 79],\n",
       "       [27, 52, 60, 91, 89, 71, 42, 57, 31, 64],\n",
       "       [ 3, 71, 27, 89, 27, 64, 12, 32, 47, 78],\n",
       "       [ 1, 16, 99, 56, 95, 78, 96, 76,  7, 97],\n",
       "       [ 2, 65, 42, 25, 69, 12, 28, 43, 69,  0],\n",
       "       [ 3, 68,  0,  2, 43, 36, 17, 61, 28, 83],\n",
       "       [47, 33, 70, 65, 80, 12, 48, 51, 13, 50],\n",
       "       [99, 22, 99, 63, 12, 81,  4, 97, 90, 31],\n",
       "       [45, 43, 38, 99, 66,  3, 27, 54, 30, 45]])"
      ]
     },
     "execution_count": 115,
     "metadata": {},
     "output_type": "execute_result"
    }
   ],
   "source": [
    "# 11\n",
    "mat3[10:20,10:20]"
   ]
  },
  {
   "cell_type": "code",
   "execution_count": 117,
   "metadata": {},
   "outputs": [
    {
     "name": "stdout",
     "output_type": "stream",
     "text": [
      "mean:  50.74666666666667\n",
      "median:  51.0\n",
      "std:  27.673096441610337\n"
     ]
    }
   ],
   "source": [
    "# 12\n",
    "print(\"mean: \", np.mean(mat3))\n",
    "print(\"median: \", np.median(mat3))\n",
    "print(\"std: \", np.std(mat3))"
   ]
  },
  {
   "cell_type": "code",
   "execution_count": 132,
   "metadata": {},
   "outputs": [
    {
     "data": {
      "text/plain": [
       "array([ 0.        ,  1.66666667,  3.33333333,  5.        ,  6.66666667,\n",
       "        8.33333333, 10.        , 11.66666667, 13.33333333, 15.        ,\n",
       "       16.66666667, 18.33333333])"
      ]
     },
     "execution_count": 132,
     "metadata": {},
     "output_type": "execute_result"
    }
   ],
   "source": [
    "# 13\n",
    "np.linspace(0,20,12,endpoint=False)"
   ]
  }
 ],
 "metadata": {
  "kernelspec": {
   "display_name": "Python 3",
   "language": "python",
   "name": "python3"
  },
  "language_info": {
   "codemirror_mode": {
    "name": "ipython",
    "version": 3
   },
   "file_extension": ".py",
   "mimetype": "text/x-python",
   "name": "python",
   "nbconvert_exporter": "python",
   "pygments_lexer": "ipython3",
   "version": "3.8.5"
  }
 },
 "nbformat": 4,
 "nbformat_minor": 4
}
